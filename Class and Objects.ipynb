{
 "cells": [
  {
   "cell_type": "markdown",
   "id": "38444c7d",
   "metadata": {
    "id": "8bcc8778"
   },
   "source": [
    "#### Create the classes and functions as per following description: \n",
    "- Create a class Person : \n",
    "   - The attributes of the class are name, age, city\n",
    "   - The functions of the class are :\n",
    "       - __init__(self, name, age, city)\n",
    "       - show_details(self)\n",
    "       - update_city(self, new_city)\n",
    "       \n",
    "- Create a class Employee which inherits the class Person:\n",
    "    - The attributes of the class are name , age, city, salary, position, dept\n",
    "    - The functions of the class are : \n",
    "        - __init__(self, name , age, city, salary, position, dept)\n",
    "        - show_details(self)\n",
    "        - update_salary(self, new_salary)\n",
    "        - update_dept(self, new_dept)\n",
    "        - update_position(self, new_pos)\n",
    "        - inc_salary(self)\n",
    "        - dec_salary\n",
    "        \n",
    "- Make use of the super function when necessary\n",
    "- Create objects and Demonstrate working of all the functions"
   ]
  },
  {
   "cell_type": "code",
   "execution_count": 6,
   "id": "e624d108",
   "metadata": {
    "id": "ef839681"
   },
   "outputs": [
    {
     "name": "stdout",
     "output_type": "stream",
     "text": [
      "previous details of a person:  \n",
      "\n",
      "name:  vinay\n",
      "age:  29\n",
      "city:  korba\n",
      "salary:  30000\n",
      "position:  clerk\n",
      "department:  xyz \n",
      "\n",
      "name:  divyanshi\n",
      "age:  26\n",
      "city:  lucknow\n",
      "salary:  45000\n",
      "position:  review officer\n",
      "department:  officer level \n",
      "\n",
      "\n",
      " updated deatils of a person:  \n",
      "\n",
      "name:  vinay\n",
      "age:  29\n",
      "city:  raipur\n",
      "salary:  50000\n",
      "position:  po\n",
      "department:  management \n",
      "\n",
      "name:  divyanshi\n",
      "age:  26\n",
      "city:  allahabad\n",
      "salary:  34000\n",
      "position:  clerk\n",
      "department:  management \n",
      "\n"
     ]
    }
   ],
   "source": [
    "class person():#create a parent class\n",
    "    def __init__(self,name,age,city):  #initialise the attributes using constructor\n",
    "        self.name=name\n",
    "        self.age=age\n",
    "        self.city=city\n",
    "   \n",
    "    def show_details(self):  #method for showing the details of person\n",
    "        \n",
    "        print('name: ',self.name)\n",
    "        print('age: ',self.age)\n",
    "        print('city: ',self.city)\n",
    "    \n",
    "    def update_city(self,new_city): #define a method to change the value of attribute\n",
    "        self.city=new_city  \n",
    "\n",
    "\n",
    "class employee(person):  #create a subclass inheriting the parent class\n",
    "    def __init__(self,name,age,city,salary, position, dept):\n",
    "        super().__init__(name,age,city)  #using super function to use the attributes of parent class\n",
    "        self.salary=salary\n",
    "        self.position=position\n",
    "        self.dept=dept\n",
    "    def show_details(self):\n",
    "        super().show_details() #using super function to use the attributes of parent class\n",
    "        print('salary: ',self.salary)\n",
    "        print('position: ',self.position)\n",
    "        print('department: ', self.dept,'\\n')\n",
    "    def update_salary(self,new_salary):  #method for updating the salary\n",
    "        self.salary=new_salary\n",
    "    def update_dept(self, new_dept):   #method for updating the department\n",
    "        self.dept=new_dept\n",
    "    def update_position(self, new_pos):   #method for updating the position  \n",
    "        self.position=new_pos\n",
    "    def inc_salary(self,inc):  #method for increment in salary\n",
    "        self.salary+=inc\n",
    "    def dec_salary(self,dec): #method for decrement in salary\n",
    "        self.salary-=dec\n",
    "print('previous details of a person: ','\\n')    \n",
    "#creating objects for performing all the functions\n",
    "p1=employee('vinay',29,'korba',30000,'clerk','xyz') \n",
    "p2=employee('divyanshi',26,'lucknow',45000,'review officer','officer level')\n",
    "p1.show_details()\n",
    "p2.show_details()\n",
    "p1.update_salary(40000)\n",
    "p2.update_salary(40000)\n",
    "p1.update_dept('management')\n",
    "p2.update_dept('management')\n",
    "p1.update_position('po')\n",
    "p2.update_position('clerk')\n",
    "p1.update_city('raipur')\n",
    "p2.update_city('allahabad')\n",
    "p1.inc_salary(10000)\n",
    "p2.dec_salary(6000)\n",
    "print('\\n','updated deatils of a person: ','\\n')\n",
    "p1.show_details()\n",
    "p2.show_details()\n",
    "\n",
    "\n",
    "\n",
    "\n",
    "    \n",
    "        \n",
    "        "
   ]
  },
  {
   "cell_type": "code",
   "execution_count": null,
   "id": "8b6c1207",
   "metadata": {},
   "outputs": [],
   "source": []
  },
  {
   "cell_type": "code",
   "execution_count": null,
   "id": "a482adef",
   "metadata": {},
   "outputs": [],
   "source": []
  }
 ],
 "metadata": {
  "colab": {
   "provenance": []
  },
  "kernelspec": {
   "display_name": "Python 3 (ipykernel)",
   "language": "python",
   "name": "python3"
  },
  "language_info": {
   "codemirror_mode": {
    "name": "ipython",
    "version": 3
   },
   "file_extension": ".py",
   "mimetype": "text/x-python",
   "name": "python",
   "nbconvert_exporter": "python",
   "pygments_lexer": "ipython3",
   "version": "3.9.12"
  }
 },
 "nbformat": 4,
 "nbformat_minor": 5
}
