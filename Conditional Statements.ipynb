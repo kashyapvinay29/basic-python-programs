{
 "cells": [
  {
   "cell_type": "markdown",
   "id": "3a10df7a",
   "metadata": {
    "id": "3a10df7a"
   },
   "source": [
    "# Conditional Statements\n",
    "- Write solution of each question in the cell given below the corresponsing question."
   ]
  },
  {
   "cell_type": "markdown",
   "id": "60c2d89a",
   "metadata": {
    "id": "60c2d89a"
   },
   "source": [
    "#### 1. Take a list of numbers as input. Print whether the average is even or odd."
   ]
  },
  {
   "cell_type": "code",
   "execution_count": 21,
   "id": "74d8f988",
   "metadata": {
    "id": "74d8f988"
   },
   "outputs": [
    {
     "name": "stdout",
     "output_type": "stream",
     "text": [
      "enter the number of elements to be added: 4\n",
      "enter the elements: 3\n",
      "enter the elements: 2\n",
      "enter the elements: 5\n",
      "enter the elements: 6\n",
      "average is even\n"
     ]
    }
   ],
   "source": [
    "#create an empty list l\n",
    "l=[]\n",
    "a=int(input('enter the number of elements to be added: ')) #enter the number of elements to be added in list\n",
    "for i in range(a):             #loop conditions for adding the elements using append function\n",
    "    b=int(input('enter the elements: ',))\n",
    "    l.append(b)\n",
    "#calculating average using the formula--> average= sum of elements/ total number of elements\n",
    "avg=(sum(l)/a)\n",
    "#conditions for checking if average is even or odd by dividing it by 2 \n",
    "#if average is divisible by 2 then print it as even or else odd\n",
    "if avg%2==0:\n",
    "    print('average is even')\n",
    "else:\n",
    "    print('average is odd')"
   ]
  },
  {
   "cell_type": "code",
   "execution_count": null,
   "id": "elF8Kl0hyp-T",
   "metadata": {
    "id": "elF8Kl0hyp-T"
   },
   "outputs": [],
   "source": [
    "\n"
   ]
  },
  {
   "cell_type": "markdown",
   "id": "4846bb19",
   "metadata": {
    "id": "4846bb19"
   },
   "source": [
    "#### 2. Take three strings as input. Calculate the number of words in each string and find out the list having highest number of words."
   ]
  },
  {
   "cell_type": "code",
   "execution_count": 25,
   "id": "e2984a70",
   "metadata": {
    "id": "e2984a70"
   },
   "outputs": [
    {
     "name": "stdout",
     "output_type": "stream",
     "text": [
      "enter the string 1: my name is vinay\n",
      "enter the string 2: hello\n",
      "enter the string 3: i am vinay\n",
      "number of words in str1:  4\n",
      "number of words in str2:  1\n",
      "number of words in str3:  3\n",
      " list having maximum number of words is:  ['my', 'name', 'is', 'vinay']\n"
     ]
    }
   ],
   "source": [
    "#take three different string using input function\n",
    "#split all the strings using split() function \n",
    "str1=str(input('enter the string 1: ')).split()\n",
    "str2=str(input('enter the string 2: ')).split()\n",
    "str3=str(input('enter the string 3: ')).split()\n",
    "#calculate the number of words in each string using len() function and store it in different variables\n",
    "a=len(str1)\n",
    "b=len(str2)\n",
    "c=len(str3)\n",
    "#print the number of words in each string\n",
    "print('number of words in str1: ',a)\n",
    "print('number of words in str2: ',b)\n",
    "print('number of words in str3: ',c)\n",
    "print(' list having maximum number of words is: ',end=\" \")\n",
    "#using conditional operator to find the string with the highest number of words\n",
    "if (a>=b) and (a>=c): #if a is highest among the three\n",
    "    print(list(str1))\n",
    "elif (b>=a) and (b>=c): #if b is highest among the three\n",
    "    print(list(str2))\n",
    "else:\n",
    "    print(list(str3))"
   ]
  },
  {
   "cell_type": "markdown",
   "id": "0e0d8196",
   "metadata": {
    "id": "0e0d8196"
   },
   "source": [
    "#### 3. Take four numbers as input in a single line. Find out the largest number."
   ]
  },
  {
   "cell_type": "code",
   "execution_count": 26,
   "id": "2b724327",
   "metadata": {
    "id": "2b724327"
   },
   "outputs": [
    {
     "name": "stdout",
     "output_type": "stream",
     "text": [
      "enter the first number: 56\n",
      "enter the second number: 76\n",
      "enter the third number: 34\n",
      "enter the fourth number: 77\n",
      "first number:  56 \n",
      " second number:  76 \n",
      " third number:  34 \n",
      " fourth number:  77 \n",
      "\n",
      "largest number is:  77\n"
     ]
    }
   ],
   "source": [
    "#take 4 different int variables for storing different numbers\n",
    "#enter the values of different variables using input funtction\n",
    "num1,num2,num3,num4=int(input('enter the first number: ')),int(input('enter the second number: ')),int(input('enter the third number: ')),int(input('enter the fourth number: '))\n",
    "print('first number: ',num1,'\\n','second number: ',num2,'\\n','third number: ',num3,'\\n','fourth number: ',num4,'\\n')\n",
    "if num1>=num2 and num1>=num3 and num1>=num4:    #checking if num1 is the greatest\n",
    "    print('largest number is: ',num1)           #print num1 if above condition is true\n",
    "elif num2>=num1 and num2>=num3 and num2>=num4:  #checking if num2 is the greatest\n",
    "    print('largest number is: ',num2)           #print num2\n",
    "elif num3>=num1 and num3>=num2 and num3>=num4:  #checking if num3 is the greatest\n",
    "    print('largest number is: ',num3)           #print num3\n",
    "else:                                           #if none of the above conditions are true \n",
    "    print('largest number is: ',num4)           #print num4"
   ]
  },
  {
   "cell_type": "markdown",
   "id": "16c0440a",
   "metadata": {
    "id": "16c0440a"
   },
   "source": [
    "#### 4. Take four numbers as input and find the second largest numer."
   ]
  },
  {
   "cell_type": "code",
   "execution_count": 27,
   "id": "795ee65e",
   "metadata": {
    "id": "795ee65e"
   },
   "outputs": [
    {
     "name": "stdout",
     "output_type": "stream",
     "text": [
      "enter the first number: 56\n",
      "enter the second number: 87\n",
      "enter the third number: 67\n",
      "enter the fourth number: 34\n",
      "first number:  56 \t second number:  87 \t third number:  67 \t fourth number:  34 \n",
      "\n",
      "second largest number is:  67\n"
     ]
    }
   ],
   "source": [
    "#take 4 different variables and enter their values using input funcion\n",
    "a,b,c,d=int(input('enter the first number: ')),int(input('enter the second number: ')),int(input('enter the third number: ')),int(input('enter the fourth number: '))\n",
    "print('first number: ',a,'\\t', 'second number: ',b,'\\t', 'third number: ',c,'\\t', 'fourth number: ',d,'\\n')\n",
    "#check for highest number among the four numbers using if conditions\n",
    "if a>=b and a>=c and a>=d:  #check if 'a' is the greatest\n",
    "    if b>=c and b>=d :    #if above condition is true then check for b as the second greatest number\n",
    "        print('second largest number is: ',b) #if above condtion true print b\n",
    "    elif c>=d:                                #if above condtion is false then check for the highest among the remaining two number and print it\n",
    "        print('second largest number is: ',c)\n",
    "    else:\n",
    "        print('second largest number is: ',d)\n",
    "    \n",
    "elif b>=a and b>=c and b>=d: #check if 'b' is the greatest\n",
    "    if a>=c and a>=d:\n",
    "        print('second largest number is: ',a)\n",
    "    elif c>=d:\n",
    "        print('second largest number is: ',c)\n",
    "    else:\n",
    "        print('second largest number is: ',d)\n",
    "        \n",
    "elif c>=a and c>=b and c>=d:  #check if 'c' is the greatest\n",
    "    if d>=a and d>=b:\n",
    "        print('second largest number is: ',d)\n",
    "    elif a>=b:\n",
    "        print('second largest number is: ',a)\n",
    "    else:\n",
    "        print('second largest number is: ',b)\n",
    "elif d>=a and d>=b and d>=c:   #check if 'd' is the greatest\n",
    "    if c>=a and c>=b:\n",
    "        print('second largest number is: ',c)\n",
    "    elif b>=a:\n",
    "        print('second largest number is: ',b)\n",
    "    else:\n",
    "        print('second largest number is: ',a)\n",
    "    \n",
    "    "
   ]
  },
  {
   "cell_type": "markdown",
   "id": "2f6641a4",
   "metadata": {
    "id": "2f6641a4"
   },
   "source": [
    "#### 5. Create a dictionary having three items. Key of each item is the name of a student, value associated with each key is a list of marks in five subjects. Given this dictionary print the top and lowest scorers."
   ]
  },
  {
   "cell_type": "code",
   "execution_count": 28,
   "id": "F5HgtrHdofCn",
   "metadata": {
    "id": "F5HgtrHdofCn"
   },
   "outputs": [
    {
     "name": "stdout",
     "output_type": "stream",
     "text": [
      "{'vinay': [58, 66, 54, 72, 76], 'ashish': [46, 48, 86, 88, 46], 'wasim': [56, 42, 44, 34, 32]} \n",
      "\n",
      "top scorer is vinay\n",
      "\n",
      "\n",
      "lowest scorer is wasim\n"
     ]
    }
   ],
   "source": [
    "student={\"vinay\":[58,66,54,72,76],\"ashish\":[46,48,86,88,46],\"wasim\":[56,42,44,34,32]} #create a dictionary with sutdent name as key and their marks as values\n",
    "print(student,'\\n')\n",
    "#find the sum of each student's marks and store it in different variable\n",
    "a=sum(student[\"vinay\"])\n",
    "b=sum(student[\"ashish\"])\n",
    "c=sum(student[\"wasim\"])\n",
    "#using condtional operators to find the highest scorer\n",
    "if a>b and a>c:   #if a is the greatest\n",
    "    print('top scorer is vinay')\n",
    "elif b>a and b>c: #if b is the greatest\n",
    "    print('top scorer is ashish')\n",
    "else:             #else c is the greatest\n",
    "    print('top scorer is wasim')\n",
    "print('\\n')\n",
    "#using condtional operators to find the lowest scorer\n",
    "if a<b and a<c:     #if a is the lowest\n",
    "    print('lowest scorer is vinay')\n",
    "elif b<a and b<c:   #if b is the lowest\n",
    "    print('lowest scorer is ashish')\n",
    "else:               #else c is the lowest\n",
    "    print('lowest scorer is wasim')\n",
    "          "
   ]
  },
  {
   "cell_type": "markdown",
   "id": "64db0791",
   "metadata": {
    "id": "64db0791"
   },
   "source": [
    "#### 6. Create a dictionary (called data) of having at least 5 items : Usernames as keys and Passwords as values. Write a program that takes a username and a password as input. If the credentials match any iteam in the given dictionary data then print acces granted otherwise print whether username, password or both are wrong."
   ]
  },
  {
   "cell_type": "code",
   "execution_count": 29,
   "id": "1ca5ccba",
   "metadata": {
    "id": "1ca5ccba"
   },
   "outputs": [
    {
     "name": "stdout",
     "output_type": "stream",
     "text": [
      "enter the username: ashish\n",
      "enter the password: 1111\n",
      "access denied\n"
     ]
    }
   ],
   "source": [
    "data={'vinay':1111, 'ashish':2222,'wasim':3333,'amit':4444,'vikas':5555} #dictionary with username as keys and password as values\n",
    "#enter the username and password as input \n",
    "username=input('enter the username: ') \n",
    "password=int(input('enter the password: '))\n",
    "if data.get(username)!=None: #condition if value of the key is not equal to none \n",
    "    if data[username]==password:  #if the value of key is equal to entered password\n",
    "        print('access granted') #access granted\n",
    "    else:\n",
    "        print('access denied')\n",
    "else:  #if the key or value is not present in the dictionary\n",
    "    print('username and password both are wrong')\n"
   ]
  },
  {
   "cell_type": "markdown",
   "id": "27c56bb8",
   "metadata": {
    "id": "27c56bb8"
   },
   "source": [
    "#### 7. Take a list as input in a single line containing 15 numbers as marks out of 100. The first five numbers in the list are marks of Tom, the middle 5 numbers are marks of Bob and the last 5 are the marks of Jon. Find out the top and lowest scorer."
   ]
  },
  {
   "cell_type": "code",
   "execution_count": 18,
   "id": "-FrUlDTsn867",
   "metadata": {
    "id": "-FrUlDTsn867",
    "scrolled": true
   },
   "outputs": [
    {
     "name": "stdout",
     "output_type": "stream",
     "text": [
      "enter the marks: 55\n",
      "enter the marks: 65\n",
      "enter the marks: 67\n",
      "enter the marks: 76\n",
      "enter the marks: 56\n",
      "enter the marks: 87\n",
      "enter the marks: 78\n",
      "enter the marks: 77\n",
      "enter the marks: 76\n",
      "enter the marks: 98\n",
      "enter the marks: 57\n",
      "enter the marks: 76\n",
      "enter the marks: 89\n",
      "enter the marks: 67\n",
      "enter the marks: 43\n",
      "marks of tom are:  [55, 65, 67, 76, 56]\n",
      "marks of bob are:  [87, 78, 77, 76, 98]\n",
      "marks of jon are:  [57, 76, 89, 67, 43] \n",
      "\n",
      "top scorer is bob\n",
      "tom is lowest scorer\n"
     ]
    }
   ],
   "source": [
    "l=[]   #create an empty list\n",
    "for i in range(15):    #loop conditions for entering elements\n",
    "    marks=int(input('enter the marks: '))\n",
    "    l.append(marks) #add elements to be added in list using append function\n",
    "a=l[:5]   #first five elemnts to be stored in 'a' using slicing method\n",
    "b=l[5:10]  #elements from six to ten stored in 'b' \n",
    "c=l[10:15] #elements from eleven to fifteen stored in 'c'\n",
    "#print marks of tom,bob and jon\n",
    "print('marks of tom are: ',a)\n",
    "print('marks of bob are: ',b)\n",
    "print('marks of jon are: ',c,'\\n')\n",
    "#conditions for top scorer\n",
    "if sum(a)>sum(b) and sum(a)>sum(c): #if sum of marks of tom is the highest\n",
    "    print('top scorer is tom') #if above condition is true print top scorer is tom\n",
    "elif sum(b)>sum(a) and sum(b)>sum(c): #if sum of marks of bob is the highest\n",
    "    print('top scorer is bob')\n",
    "else:                #if none of the above conditions are true then jon is the top scorer\n",
    "    print('top scorer is jon')\n",
    "#condtions for lowest scorer\n",
    "if sum(a)<sum(b) and sum(a)<sum(c):\n",
    "    print('tom is lowest scorer')\n",
    "elif sum(b)<sum(a) and sum(b)<sum(c):\n",
    "    print('bob is lowest scorer')\n",
    "else:\n",
    "    print('jon is lowest scorer')\n"
   ]
  },
  {
   "cell_type": "markdown",
   "id": "20f59542",
   "metadata": {
    "id": "20f59542"
   },
   "source": [
    "8. Take a number as input and print whether the number is a multiple of 3,5 or both."
   ]
  },
  {
   "cell_type": "code",
   "execution_count": 30,
   "id": "otWg3MXaYing",
   "metadata": {
    "id": "otWg3MXaYing"
   },
   "outputs": [
    {
     "name": "stdout",
     "output_type": "stream",
     "text": [
      "enter the number: 55\n",
      "number is a multiple of 5\n"
     ]
    }
   ],
   "source": [
    "num=int(input('enter the number: '))  #take a number as input\n",
    "if (num%3==0) and (num%5==0):  #condition for number divisible by both 3 and 5\n",
    "    print('number is a multiple of 3,5 and both')\n",
    "elif (num%3==0):  #condition for number divisible by 3\n",
    "    print('number is a multiple of 3')\n",
    "elif (num%5==0):  #condition for number divisible by 5\n",
    "    print('number is a multiple of 5')\n",
    "else:              #if none of the above is true\n",
    "    print('not a multiple 3 or 5')"
   ]
  },
  {
   "cell_type": "markdown",
   "id": "b770e791",
   "metadata": {
    "id": "b770e791"
   },
   "source": [
    "#### 9. Write a program to take three strings as input and print the string having second largest number of words."
   ]
  },
  {
   "cell_type": "code",
   "execution_count": 37,
   "id": "56556a21",
   "metadata": {},
   "outputs": [
    {
     "name": "stdout",
     "output_type": "stream",
     "text": [
      "enter the string 1: my name is vinay\n",
      "enter the string 2: hello hello hello\n",
      "enter the string 3: hello\n",
      "2nd largest:  ['hello', 'hello', 'hello']\n"
     ]
    }
   ],
   "source": [
    "#take three different string using input function\n",
    "#split all the strings using split() function \n",
    "str1=str(input('enter the string 1: ')).split()\n",
    "str2=str(input('enter the string 2: ')).split()\n",
    "str3=str(input('enter the string 3: ')).split()\n",
    "#calculate the number of words in each string\n",
    "a=len(str1)\n",
    "b=len(str2)\n",
    "c=len(str3)\n",
    "#conditions for finding the highest \n",
    "if a>=b and a>=c: #if a is the highest\n",
    "    if b>=c: #if above condtion true then check if b is highest from remaining two\n",
    "        print('string having second largest number of words: ',str2)\n",
    "    else:\n",
    "        print('string having second largest number of words: ',str3)\n",
    "#if above conditions are false then check if b is the highest\n",
    "elif b>=a and b>=c: \n",
    "    if a>=c:\n",
    "        print('string having second largest number of words: ',str1)\n",
    "    else:\n",
    "        print('string having second largest number of words: ',str3)\n",
    "elif a>=b:\n",
    "    print('string having second largest number of words: ',str1)\n",
    "else:\n",
    "    print('string having second largest number of words: ',str2)\n"
   ]
  },
  {
   "cell_type": "markdown",
   "id": "cd68782b",
   "metadata": {
    "id": "0359e7ef"
   },
   "source": [
    "### "
   ]
  },
  {
   "cell_type": "markdown",
   "id": "5a485c8c",
   "metadata": {
    "id": "5a485c8c"
   },
   "source": [
    "#### 10. Write a program to take four strings as input and print the string having third highest number of words."
   ]
  },
  {
   "cell_type": "code",
   "execution_count": 24,
   "id": "LZxu2EihcFFf",
   "metadata": {
    "id": "LZxu2EihcFFf"
   },
   "outputs": [
    {
     "name": "stdout",
     "output_type": "stream",
     "text": [
      "enter the string 1: my name is vinay kashyap\n",
      "enter the string 2: hello\n",
      "enter the string 3: i am vinay\n",
      "enter the string 4: hello goodmorning\n",
      "string having third highest number of words:  ['hello', 'goodmorning']\n"
     ]
    }
   ],
   "source": [
    "#take four different string using input function\n",
    "#split all the strings using split() function\n",
    "str1=str(input('enter the string 1: ')).split()\n",
    "str2=str(input('enter the string 2: ')).split()\n",
    "str3=str(input('enter the string 3: ')).split()\n",
    "str4=str(input('enter the string 4: ')).split()\n",
    "#calculate the number of words in each string\n",
    "a=len(str1)\n",
    "b=len(str2)\n",
    "c=len(str3)\n",
    "d=len(str4)\n",
    "#using conditions to find the second lowest as it is equal to third higest\n",
    "if a<=b and a<=c and a<=d:   #if a is the lowest\n",
    "    if b<=c and b<=d : #if above condition is true then check if b is lowest among the  remaining\n",
    "        print('string having third highest number of words: ',str2)\n",
    "    elif c<=d:    #if above condition not true then check for lowest from the remaining\n",
    "        print('string having third highest number of words:',str3)\n",
    "    else:\n",
    "        print('string having third highest number of words: ',str4)\n",
    "    \n",
    "elif b<=a and b<=c and b<=d: #if b is the lowest\n",
    "    if a<=c and a<=d:\n",
    "        print('string having third highest number of words: ',str1)\n",
    "    elif c<=d:\n",
    "        print('string having third highest number of words:',str3)\n",
    "    else:\n",
    "        print('string having third highest number of words: ',str4)\n",
    "        \n",
    "elif c<=a and c<=b and c<=d: #if c is the lowest\n",
    "    if d<=a and d<=b:\n",
    "        print('string having third highest number of words: ',str4)\n",
    "    elif a<=b:\n",
    "        print('string having third highest number of words: ',str1)\n",
    "    else:\n",
    "        print('string having third highest number of words: ',str2)\n",
    "elif d<=a and d<=b and d<=c: #if d is the lowest\n",
    "    if c<=a and c<=b:\n",
    "        print('string having third highest number of words: ',str3)\n",
    "    elif a<=b:\n",
    "        print('string having third highest number of words: ',str1)\n",
    "    else:\n",
    "        print('string having third highest number of words: ',str2)\n",
    "    "
   ]
  },
  {
   "cell_type": "code",
   "execution_count": null,
   "id": "3411bf51",
   "metadata": {},
   "outputs": [],
   "source": []
  }
 ],
 "metadata": {
  "colab": {
   "provenance": []
  },
  "kernelspec": {
   "display_name": "Python 3 (ipykernel)",
   "language": "python",
   "name": "python3"
  },
  "language_info": {
   "codemirror_mode": {
    "name": "ipython",
    "version": 3
   },
   "file_extension": ".py",
   "mimetype": "text/x-python",
   "name": "python",
   "nbconvert_exporter": "python",
   "pygments_lexer": "ipython3",
   "version": "3.9.12"
  }
 },
 "nbformat": 4,
 "nbformat_minor": 5
}
