{
 "cells": [
  {
   "cell_type": "markdown",
   "id": "c6ec5c42",
   "metadata": {
    "id": "c6ec5c42"
   },
   "source": [
    "# Assessment - 3 Gradable\n",
    "\n",
    "- Each question carries 3 or 4 marks\n",
    "- Marks will be assigned in terms of:\n",
    "    \n",
    "    **1. Expected output**\n",
    "    \n",
    "    **2. Quality and Explainability of code**\n",
    "\n",
    "    ***Go back through the script and type a comment above each line explaining in English what it does.***\n",
    "\n",
    "    **3. Copied code, if found, will result in 0 marks for that question. To avoid this make as much comments in the code to explain the approach**"
   ]
  },
  {
   "cell_type": "markdown",
   "id": "8698053e",
   "metadata": {
    "id": "8698053e"
   },
   "source": [
    "### 1.\n",
    "\n",
    "Go through the string below and if the length of a word is even print \"even!\"\n",
    "\n",
    "string = 'I know how to print every word in this sentence that has an even number of letters'"
   ]
  },
  {
   "cell_type": "code",
   "execution_count": 7,
   "id": "4dec28a9",
   "metadata": {
    "id": "4dec28a9"
   },
   "outputs": [
    {
     "name": "stdout",
     "output_type": "stream",
     "text": [
      "know is even\n",
      "to is even\n",
      "word is even\n",
      "in is even\n",
      "this is even\n",
      "sentence is even\n",
      "that is even\n",
      "an is even\n",
      "even is even\n",
      "number is even\n",
      "of is even\n"
     ]
    }
   ],
   "source": [
    "string = 'I know how to print every word in this sentence that has an even number of letters'\n",
    "#split the string using split() function\n",
    "a=string.split()\n",
    "for i in a: #iterate each word of the string\n",
    "    if len(i)%2==0: #if length of each word is divisible by then print even\n",
    "        print(i, 'is even')"
   ]
  },
  {
   "cell_type": "markdown",
   "id": "8569bc4e",
   "metadata": {
    "id": "8569bc4e"
   },
   "source": [
    "### 2. \n",
    "\n",
    "Write a program to check given number is odd or even\n",
    "\n",
    "Hint:\n",
    "- 20 is even\n",
    "- 27 is odd"
   ]
  },
  {
   "cell_type": "code",
   "execution_count": 6,
   "id": "9ccfca15",
   "metadata": {
    "id": "9ccfca15"
   },
   "outputs": [
    {
     "name": "stdout",
     "output_type": "stream",
     "text": [
      "enter a number: 32\n",
      "32  is even\n"
     ]
    }
   ],
   "source": [
    "#enter an interger number\n",
    "num=int(input('enter a number: '))\n",
    "#if number is divisible by 2 the print even or else odd\n",
    "if num%2==0:\n",
    "    print(num,' is even')\n",
    "else:\n",
    "    print(num,' is odd')"
   ]
  },
  {
   "cell_type": "markdown",
   "id": "40759409",
   "metadata": {
    "id": "40759409"
   },
   "source": [
    "### 3.\n",
    "\n",
    "Write a program to check given number is divisible by 6 or not\n",
    "\n",
    "Hint:\n",
    "24 is divisible by 6\n",
    "27 is not divisible by 6"
   ]
  },
  {
   "cell_type": "code",
   "execution_count": 2,
   "id": "f7409469",
   "metadata": {
    "id": "f7409469"
   },
   "outputs": [
    {
     "name": "stdout",
     "output_type": "stream",
     "text": [
      "enter a number42\n",
      "42  is divisible by 6\n"
     ]
    }
   ],
   "source": [
    "#take an integer number as input\n",
    "num=int(input('enter a number'))\n",
    "#conditions for divisibility of number by 6\n",
    "if num%6==0:\n",
    "    print(num,' is divisible by 6')\n",
    "else:\n",
    "    print(num,' is not divisible by 6')"
   ]
  },
  {
   "cell_type": "markdown",
   "id": "0dd3847a",
   "metadata": {
    "id": "0dd3847a"
   },
   "source": [
    "### 4. \n",
    "\n",
    "Create a list containing the following 3 elements:\n",
    "\n",
    "- Subject person had taken\n",
    "- Marks Achieved\n",
    "- a boolean value showing previous programming experience\n",
    "\n",
    "print all details and also print person has programming experience or not"
   ]
  },
  {
   "cell_type": "code",
   "execution_count": 4,
   "id": "bdcd687d",
   "metadata": {},
   "outputs": [
    {
     "name": "stdout",
     "output_type": "stream",
     "text": [
      "enter the subject: english\n",
      "enter the marks: 87\n",
      "enter the programming experience: false\n",
      "all the details of person:  ['english', 87, 'false']\n",
      "person has no programming experience\n"
     ]
    }
   ],
   "source": [
    "#create an empty list l\n",
    "l=[]\n",
    "#take 3 variables as subject, marks and experience and their values using input function\n",
    "subject=input('enter the subject: ')\n",
    "marks=int(input('enter the marks: '))\n",
    "experience=input('enter the programming experience: ')\n",
    "#add these variables to the list using insert function\n",
    "l.insert(0,subject)\n",
    "l.insert(1,marks)\n",
    "l.insert(2,experience)\n",
    "print('all the details of person: ',l)   #print the list\n",
    "# conditions for checking if the person has experience or not\n",
    "if experience=='true' or experience=='TRUE':\n",
    "    print('person has programming experience')\n",
    "else:\n",
    "    print('person has no programming experience')"
   ]
  },
  {
   "cell_type": "markdown",
   "id": "a54510f0",
   "metadata": {
    "id": "a54510f0"
   },
   "source": [
    "### 5.\n",
    "\n",
    "Write a program to check sum of all elements in a list is greater than 100 or not\n",
    "\n",
    "Hint:\n",
    "- [11, 13, 17, 19, 11] --> sum is not greater than 100\n",
    "- [24, 36, 30, 31, 42] --> sum is greater than 100"
   ]
  },
  {
   "cell_type": "code",
   "execution_count": 5,
   "id": "5d53ba1f",
   "metadata": {
    "id": "5d53ba1f"
   },
   "outputs": [
    {
     "name": "stdout",
     "output_type": "stream",
     "text": [
      "enter number of elements to be added in list: 4\n",
      "enter the elements: 34\n",
      "enter the elements: 43\n",
      "enter the elements: 12\n",
      "enter the elements: 33\n",
      "[34, 43, 12, 33]\n",
      "sum is greater than 100\n"
     ]
    }
   ],
   "source": [
    "a=[]          #create an empty list\n",
    "b=int(input('enter number of elements to be added in list: '))  #take the number of elements to be added\n",
    "for i in range(b):     #using loop for entering the elements\n",
    "    c=int(input('enter the elements: '))\n",
    "    a.append(c)   #add all the elements in the list using append function\n",
    "print(a)\n",
    "#calculating the sum of all elements in the list using sum function\n",
    "s=sum(a)\n",
    "#checking if the sum is greater than 100 or not\n",
    "if s>100:\n",
    "    print('sum is greater than 100')\n",
    "else:\n",
    "    print('sum is not greater than 100')"
   ]
  },
  {
   "cell_type": "code",
   "execution_count": null,
   "id": "95f797be",
   "metadata": {},
   "outputs": [],
   "source": []
  }
 ],
 "metadata": {
  "colab": {
   "provenance": []
  },
  "kernelspec": {
   "display_name": "Python 3 (ipykernel)",
   "language": "python",
   "name": "python3"
  },
  "language_info": {
   "codemirror_mode": {
    "name": "ipython",
    "version": 3
   },
   "file_extension": ".py",
   "mimetype": "text/x-python",
   "name": "python",
   "nbconvert_exporter": "python",
   "pygments_lexer": "ipython3",
   "version": "3.9.12"
  }
 },
 "nbformat": 4,
 "nbformat_minor": 5
}
