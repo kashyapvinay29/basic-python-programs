{
 "cells": [
  {
   "cell_type": "markdown",
   "id": "9aa8c164",
   "metadata": {
    "id": "4f1596de"
   },
   "source": [
    "# Functions\n",
    "- Write solution of each question in the cell given below the corresponsing question.\n",
    "- Function taking input refers to input as a parameter / argument being passed."
   ]
  },
  {
   "cell_type": "markdown",
   "id": "3d82f29e",
   "metadata": {
    "id": "6f0d9ac3"
   },
   "source": [
    "#### 1. Create a function that takes a list of numbers as input and returns the median."
   ]
  },
  {
   "cell_type": "code",
   "execution_count": 54,
   "id": "1687db88",
   "metadata": {
    "id": "0a090145"
   },
   "outputs": [
    {
     "name": "stdout",
     "output_type": "stream",
     "text": [
      "enter the number of elements in the list: 4\n",
      "enter the elements: 1\n",
      "enter the elements: 2\n",
      "enter the elements: 3\n",
      "enter the elements: 4\n",
      "[1, 2, 3, 4]\n",
      "the median is : \n",
      "2.5\n"
     ]
    }
   ],
   "source": [
    "#define a function median\n",
    "def median(n):\n",
    "    #body of the function\n",
    "    n.sort()\n",
    "    print('the median is : ')\n",
    "    #conditions for finding the median\n",
    "    if s%2==0:  #if the number of elements in the list is even\n",
    "        median1 = n[s//2]\n",
    "        median2 = n[s//2 - 1]\n",
    "        median = (median1 + median2)/2\n",
    "    else:\n",
    "        median=n[s//2]  #if the number of elements in the list is odd\n",
    "    return median\n",
    "l=[]  #creating an empty list\n",
    "s=int(input('enter the number of elements in the list: '))\n",
    "#use for loop for appending multiple elements in the list\n",
    "for i in range(s):\n",
    "    a=int(input('enter the elements: '))\n",
    "    l.append(a)\n",
    "print(l)\n",
    "print(median(l)) #calling the function"
   ]
  },
  {
   "cell_type": "markdown",
   "id": "af387a67",
   "metadata": {
    "id": "zsPDITuiIhY7"
   },
   "source": []
  },
  {
   "cell_type": "markdown",
   "id": "d25d569a",
   "metadata": {
    "id": "18a107c4"
   },
   "source": [
    "#### 2. Create a function that takes a list of numbers as input and returns the mean."
   ]
  },
  {
   "cell_type": "code",
   "execution_count": 6,
   "id": "276f2e11",
   "metadata": {
    "id": "Vy8v3p_hIgsc"
   },
   "outputs": [
    {
     "name": "stdout",
     "output_type": "stream",
     "text": [
      "enter the number of elements in the list: 5\n",
      "enter the elements: 1\n",
      "enter the elements: 2\n",
      "enter the elements: 3\n",
      "enter the elements: 4\n",
      "enter the elements: 5\n",
      "[1, 2, 3, 4, 5]\n",
      "mean of numbers in the list: \n",
      "3.0\n"
     ]
    }
   ],
   "source": [
    "def mean(m): #define a function \n",
    "    #formula for calculating mean--> mean = (sum of all elements)/(number of elements)\n",
    "    mean=sum(m)/s\n",
    "    print('mean of numbers in the list: ')\n",
    "    return mean\n",
    "l=[]\n",
    "s=int(input('enter the number of elements in the list: '))\n",
    "for i in range(s):\n",
    "    a=int(input('enter the elements: '))\n",
    "    l.append(a)\n",
    "print(l)\n",
    "print(mean(l)) #calling the function"
   ]
  },
  {
   "cell_type": "code",
   "execution_count": null,
   "id": "63d18ade",
   "metadata": {
    "id": "9533b14a"
   },
   "outputs": [],
   "source": []
  },
  {
   "cell_type": "markdown",
   "id": "c8672bf3",
   "metadata": {
    "id": "34df49cf"
   },
   "source": [
    "#### 3. Create a function that takes a list of numbers as input and returns the standard deviation."
   ]
  },
  {
   "cell_type": "code",
   "execution_count": 4,
   "id": "30df984f",
   "metadata": {
    "id": "5a089785"
   },
   "outputs": [
    {
     "name": "stdout",
     "output_type": "stream",
     "text": [
      "enter the number of elements in the list: 5\n",
      "enter the elements: 4\n",
      "enter the elements: 6\n",
      "enter the elements: 2\n",
      "enter the elements: 5\n",
      "enter the elements: 3\n",
      "[4, 6, 2, 5, 3]\n",
      "the standard deviation of list of numbers is: \n",
      "1.5811388300841898\n"
     ]
    }
   ],
   "source": [
    "def standard_deviation(n):  #define a function\n",
    "    m=sum(n)/s #calculating mean\n",
    "    new=[(x-m)**2 for x in n]  #creating a new list for calculating variance\n",
    "    variance=sum(new)/(s-1)  #formula for calculating variance\n",
    "    std_deviation=(variance)**(1/2) #formula for calculating standard deviation\n",
    "    print('the standard deviation of list of numbers is: ')\n",
    "    return std_deviation #returning the standard deviation\n",
    "l=[]\n",
    "s=int(input('enter the number of elements in the list: '))\n",
    "for i in range(s):\n",
    "    a=int(input('enter the elements: '))\n",
    "    l.append(a)\n",
    "print(l)\n",
    "print(standard_deviation(l)) #calling the function"
   ]
  },
  {
   "cell_type": "code",
   "execution_count": null,
   "id": "b0fa6290",
   "metadata": {
    "id": "7QrYx5jiLON6"
   },
   "outputs": [],
   "source": []
  },
  {
   "cell_type": "markdown",
   "id": "3fa5b2af",
   "metadata": {
    "id": "9cc39352"
   },
   "source": [
    "#### 4. Create a function that takes a number as input and return True if the number is prime , False if not."
   ]
  },
  {
   "cell_type": "code",
   "execution_count": 5,
   "id": "4c7057a2",
   "metadata": {
    "id": "722fc2fa"
   },
   "outputs": [
    {
     "name": "stdout",
     "output_type": "stream",
     "text": [
      "enter a number: 12\n",
      "false\n"
     ]
    }
   ],
   "source": [
    "def prime(n): #define a function\n",
    "    #conditions for number being prime or not\n",
    "    if n>1:\n",
    "        for i in range(2,n):\n",
    "            if (n % i) == 0:  #checking if the number is divisible by any number withing its range\n",
    "                #if true, number is not prime\n",
    "                print('false')\n",
    "                break\n",
    "        else:\n",
    "            return 'true'\n",
    "    else:\n",
    "        return 'false'\n",
    "prime(int(input('enter a number: ')))"
   ]
  },
  {
   "cell_type": "markdown",
   "id": "ebe5b117",
   "metadata": {
    "id": "4029f3a8"
   },
   "source": [
    "5. Create a function that takes a list of numbers as input and returns the variance."
   ]
  },
  {
   "cell_type": "code",
   "execution_count": 2,
   "id": "8cc5f760",
   "metadata": {
    "id": "83d19248"
   },
   "outputs": [
    {
     "name": "stdout",
     "output_type": "stream",
     "text": [
      "enter the number of elements in the list: 5\n",
      "enter the elements: 2\n",
      "enter the elements: 5\n",
      "enter the elements: 3\n",
      "enter the elements: 6\n",
      "enter the elements: 4\n",
      "[2, 5, 3, 6, 4]\n",
      "variance of the list is: \n"
     ]
    },
    {
     "data": {
      "text/plain": [
       "2.5"
      ]
     },
     "execution_count": 2,
     "metadata": {},
     "output_type": "execute_result"
    }
   ],
   "source": [
    "def var(n): #define a function var\n",
    "    m=sum(n)/s #calculate mean of the given list\n",
    "    new=[(x-m)**2 for x in n]  #create a new list using list comprehension for calculating variance\n",
    "    variance=sum(new)/(s-1) #formula for calculating variance\n",
    "    print('variance of the list is: ')\n",
    "    return variance #returning the variance\n",
    "l=[]\n",
    "s=int(input('enter the number of elements in the list: '))\n",
    "for i in range(s):\n",
    "    a=int(input('enter the elements: '))\n",
    "    l.append(a)\n",
    "print(l)\n",
    "print(var(l)) #calling the function "
   ]
  },
  {
   "cell_type": "markdown",
   "id": "ca87e360",
   "metadata": {
    "id": "7acad1bf"
   },
   "source": [
    "#### 6. Create a function that takes a number as input and returns the factorial."
   ]
  },
  {
   "cell_type": "code",
   "execution_count": 21,
   "id": "f4875fc5",
   "metadata": {
    "id": "f7c0877a"
   },
   "outputs": [
    {
     "name": "stdout",
     "output_type": "stream",
     "text": [
      "enter a number: 5\n",
      "120\n"
     ]
    }
   ],
   "source": [
    "def factorial(n): #define a function \n",
    "    fact = 1 #initialise the value for variable fact\n",
    " \n",
    "    for i in range(1, n+1): #using for loop to iterate over a range\n",
    "        fact = fact * i   #formula for calucating facrtorial\n",
    "    return fact\n",
    "print(factorial(int(input('enter a number: '))))"
   ]
  },
  {
   "cell_type": "markdown",
   "id": "ef54cf4d",
   "metadata": {
    "id": "b1e46b1f"
   },
   "source": [
    "#### 7. Create a function that takes two lists of same length as input and returns a list consisting of larger element at each position after comparing the corresponding elements in the given lists."
   ]
  },
  {
   "cell_type": "code",
   "execution_count": 27,
   "id": "093156b6",
   "metadata": {
    "id": "bc428d22"
   },
   "outputs": [
    {
     "name": "stdout",
     "output_type": "stream",
     "text": [
      "list consisting of larger elements at each position: \n",
      "[2, 6, 8, 7]\n"
     ]
    }
   ],
   "source": [
    "def largest_list(a,b): #define a function \n",
    "    c=[] #create an empty list to be filled by largest element from two list\n",
    "    print('list consisting of larger elements at each position: ')\n",
    "    #use for loop for appending the multiple elements\n",
    "    for i in range(4):\n",
    "        #condition for finding the largest element in each position\n",
    "        if a[i]>b[i]:\n",
    "            c.append(a[i]) \n",
    "        else:\n",
    "            c.append(b[i])\n",
    "    return c #return the new list with largest elements from each position\n",
    "            \n",
    "a=[2,4,3,7]\n",
    "b=[1,6,8,4]\n",
    "print(largest_list(a,b)) #calling the function"
   ]
  },
  {
   "cell_type": "markdown",
   "id": "b40dd2e6",
   "metadata": {
    "id": "f397889f"
   },
   "source": [
    "#### 8. Create a function that takes a string and returns a string after joining the words that are having even lengths."
   ]
  },
  {
   "cell_type": "code",
   "execution_count": 53,
   "id": "f5585ddb",
   "metadata": {
    "id": "ebf96e1c"
   },
   "outputs": [
    {
     "name": "stdout",
     "output_type": "stream",
     "text": [
      "enter a string: my name is vinay\n",
      "my name is "
     ]
    }
   ],
   "source": [
    "def even_words(string): #define a function\n",
    "    for i in a: #using for loop to access each word in the string\n",
    "        if len(i)%2==0:  #condition for checking the if the length of each word is even or odd\n",
    "            #if the length of word is even ,print it \n",
    "            print(i, end=\" \")\n",
    "            \n",
    "a=input('enter a string: ').split() #taking a string as input and splitting it using split function\n",
    "even_words(a) #calling the function"
   ]
  },
  {
   "cell_type": "markdown",
   "id": "d56f3797",
   "metadata": {
    "id": "36c6aae1"
   },
   "source": [
    "#### 9. Create a function that takes a string and a character as input and returns a list after splitting the string based on the given character. By Default split based on whitespace. (Create a function similar to the inbuilt split function without using it)."
   ]
  },
  {
   "cell_type": "code",
   "execution_count": 84,
   "id": "721739f3",
   "metadata": {
    "id": "869d7244"
   },
   "outputs": [
    {
     "name": "stdout",
     "output_type": "stream",
     "text": [
      "enter a string: my name is vinay\n",
      "enter a character: a\n",
      "[' my n', ' me is vin', ' y']\n"
     ]
    }
   ],
   "source": [
    "def split_string(s,x): #define a function\n",
    "    l=[] #create an empty list\n",
    "    a=' '  #initialising a variable as empty space\n",
    "    for i in string:  #accessing each character in the string using for loop\n",
    "        if i==x:  #if the character in the string is equal to character taken as input\n",
    "            l.append(a)  #append the empty space in place of that\n",
    "            a=' '  #again assigning the value of 'a' as empty space\n",
    "        else:\n",
    "            a+=i  #else print character present in the string\n",
    "    if a:   #if there is space between the character then append 'a'\n",
    "        l.append(a)\n",
    "    return l\n",
    "string=input('enter a string: ') #taking string as an input\n",
    "x=input('enter a character: ') #taking character as string input\n",
    "print(split_string(string,x)) #calling the function"
   ]
  },
  {
   "cell_type": "markdown",
   "id": "9c1878a1",
   "metadata": {
    "id": "b8c01afd"
   },
   "source": [
    "#### 10. Create a function which takes a 2-D list of shape m * n where m is number of elements in the original list and where each element is a list having n integers (A list of m lists having n numbers each, a matrix). The function returns the largest element in the given list."
   ]
  },
  {
   "cell_type": "code",
   "execution_count": 30,
   "id": "a77c6244",
   "metadata": {
    "id": "adda1366"
   },
   "outputs": [
    {
     "name": "stdout",
     "output_type": "stream",
     "text": [
      "enter the number of elements: 4\n",
      "enter the elements: 1\n",
      "enter the elements: 2\n",
      "enter the elements: 3\n",
      "enter the elements: 4\n",
      "enter the elements: 6\n",
      "enter the elements: 53\n",
      "enter the elements: 2\n",
      "enter the elements: 9\n",
      "[[1, 2, 3, 4], [6, 53, 2, 9]]\n",
      "53\n"
     ]
    }
   ],
   "source": [
    "def largest_element(list2d): #defining a fucntion\n",
    "    #taking first element in 2-d list as the largest element\n",
    "    largest_ele=list2d[0][0]\n",
    "    for i in list2d: #accessing the two lists inside the given list\n",
    "        for j in i: #accessing the each elements in the two list\n",
    "            if j>largest_ele:  #conditions for finding the largest element in the 2 list\n",
    "                largest_ele=j\n",
    "    return largest_ele #return the largest element\n",
    "list2d=[] #create an empty list\n",
    "s=int(input('enter the number of elements: '))\n",
    "#using two for loops for creating a list inside a list\n",
    "for i in range(2):\n",
    "    c=[]\n",
    "    for j in range(s):\n",
    "        a=int(input('enter the elements: '))\n",
    "        c.append(a)\n",
    "    list2d.append(c)\n",
    "#print the 2-d list\n",
    "print(list2d)\n",
    "print(largest_element(list2d)) #calling the function"
   ]
  },
  {
   "cell_type": "markdown",
   "id": "d42c10e9",
   "metadata": {
    "id": "d2a2a668"
   },
   "source": [
    "#### 11. Create a function which takes a 2-D list of shape m * n where m is number of elements in the original list and where each element is a list having n integers (A list of m lists having n numbers each). The function also takes a number x as input and returns True is x is in the given 2D list."
   ]
  },
  {
   "cell_type": "code",
   "execution_count": 32,
   "id": "85dd790a",
   "metadata": {
    "id": "585d5e4b"
   },
   "outputs": [
    {
     "name": "stdout",
     "output_type": "stream",
     "text": [
      "enter the number of elements: 3\n",
      "enter the elements: 4\n",
      "enter the elements: 6\n",
      "enter the elements: 2\n",
      "enter the elements: 5\n",
      "enter the elements: 8\n",
      "enter the elements: 9\n",
      "[[4, 6, 2], [5, 8, 9]]\n",
      "enter a number: 10\n",
      "false\n"
     ]
    }
   ],
   "source": [
    "def check_x(list2d,x): #define a function\n",
    "    for i in list2d: #accessing the list inside the list\n",
    "        for j in i: #accessing each elements from the two list\n",
    "            if j==x:  #if the element is equal to the number taken as input\n",
    "                return 'true' #return true\n",
    "    return 'false' #else return false\n",
    "#create a list inside list using two for loops\n",
    "list2d=[]\n",
    "s=int(input('enter the number of elements: '))\n",
    "for i in range(2):\n",
    "    c=[]\n",
    "    for j in range(s):\n",
    "        a=int(input('enter the elements: '))\n",
    "        c.append(a)\n",
    "    list2d.append(c)\n",
    "print(list2d)                \n",
    "x=int(input('enter a number: ')) #take a number as input to be checked if present in the list or not\n",
    "\n",
    "print(check_x(list2d,x)) #calling the function"
   ]
  },
  {
   "cell_type": "markdown",
   "id": "859a98c9",
   "metadata": {
    "id": "0d889f51"
   },
   "source": [
    "#### 12. Create a function which takes a 2-D list of shape m * n where m is number of elements in the original list and where each element is a list having n integers (A list of m lists having n numbers each). The function returns the sum of all rows in the matrix (2 D list)."
   ]
  },
  {
   "cell_type": "code",
   "execution_count": 81,
   "id": "bdb318de",
   "metadata": {
    "id": "56d82617"
   },
   "outputs": [
    {
     "name": "stdout",
     "output_type": "stream",
     "text": [
      "enter the number of elements: 3\n",
      "enter the elements: 1\n",
      "enter the elements: 2\n",
      "enter the elements: 3\n",
      "enter the elements: 4\n",
      "enter the elements: 5\n",
      "enter the elements: 6\n",
      "[[1, 2, 3], [4, 5, 6]]\n",
      "21\n"
     ]
    }
   ],
   "source": [
    "#defining a function \n",
    "def sum_rows(list2d):\n",
    "    #body of the function\n",
    "    total=0\n",
    "    for k in list2d:\n",
    "        for l in k:\n",
    "            total+=l\n",
    "    return total\n",
    "#creating a user input 2d list\n",
    "list2d=[]\n",
    "s=int(input('enter the number of elements: '))\n",
    "for i in range(2):\n",
    "    c=[]\n",
    "    for j in range(s):\n",
    "        a=int(input('enter the elements: '))\n",
    "        c.append(a)\n",
    "    list2d.append(c)\n",
    "print(list2d)\n",
    "print(sum_rows(list2d)) #calling the function and passing a parameter"
   ]
  },
  {
   "cell_type": "markdown",
   "id": "7170f687",
   "metadata": {
    "id": "f89438e1"
   },
   "source": [
    "13. Create a function which takes a 2-D list of shape m * n where m is number of elements in the original list and where each element is a list having n integers (A list of m lists having n numbers each). The function also a takes a number x as input and returns a list of all consecutive pairs having sum eaqqual to x."
   ]
  },
  {
   "cell_type": "code",
   "execution_count": 9,
   "id": "fc389b2c",
   "metadata": {
    "id": "c857dfcd"
   },
   "outputs": [
    {
     "name": "stdout",
     "output_type": "stream",
     "text": [
      "enter a number: 15\n",
      "enter the number of elements in each list : 5\n",
      "enter the elements: 3\n",
      "enter the elements: 6\n",
      "enter the elements: 2\n",
      "enter the elements: 13\n",
      "enter the elements: 4\n",
      "enter the elements: 9\n",
      "enter the elements: 6\n",
      "enter the elements: 5\n",
      "enter the elements: 11\n",
      "enter the elements: 4\n",
      "[[3, 6, 2, 13, 4], [9, 6, 5, 11, 4]]\n",
      "pair of consecutive numbers equals to given number are: \n",
      "[[2, 13], [9, 6], [11, 4]]\n"
     ]
    }
   ],
   "source": [
    "x=int(input('enter a number: ')) #enter the number to be checked\n",
    "def check_pair_sum(list2d,x): #define a function\n",
    "    result=[] #create an empty list\n",
    "    for i in list2d:  #accessing the lists inside list\n",
    "        for j in range(len(i)-1): #using for loop accessing the index number of each element\n",
    "            if i[j]+i[j+1]==x: #condition for checking sum of consecutive number equals to given number \n",
    "                result.append([i[j],i[j+1]]) #append pair of number to list satisfying the condition\n",
    "                   \n",
    "    return result #return the list of pair of number \n",
    "#creating a list to be checked\n",
    "list2d=[]\n",
    "s=int(input('enter the number of elements in each list : '))\n",
    "for i in range(2):\n",
    "    c=[]\n",
    "    for j in range(s):\n",
    "        a=int(input('enter the elements: '))\n",
    "        c.append(a)\n",
    "    list2d.append(c)\n",
    "print(list2d)\n",
    "print('pair of consecutive numbers equals to given number are: ')\n",
    "print(check_pair_sum(list2d,x)) #calling the function"
   ]
  },
  {
   "cell_type": "markdown",
   "id": "782f9fb6",
   "metadata": {
    "id": "976248d9"
   },
   "source": [
    "#### 14. Create a function that takes a list and a number as input and returns True ifthe number is present in the list otherwise false using Binary search algorithm. (Read about Binary Search)."
   ]
  },
  {
   "cell_type": "code",
   "execution_count": 70,
   "id": "5f9fc482",
   "metadata": {
    "id": "ef73c7cb"
   },
   "outputs": [
    {
     "name": "stdout",
     "output_type": "stream",
     "text": [
      "enter the number of elements: 6\n",
      "enter the numbers to be added in list: 5\n",
      "enter the numbers to be added in list: 2\n",
      "enter the numbers to be added in list: 7\n",
      "enter the numbers to be added in list: 4\n",
      "enter the numbers to be added in list: 11\n",
      "enter the numbers to be added in list: 67\n",
      "[5, 2, 7, 4, 11, 67]\n",
      "enter the number to be searched: 11\n",
      "Element is present at index 4\n"
     ]
    }
   ],
   "source": [
    "def binary_search(List, low, high, x):\n",
    " \n",
    "    # Check base case\n",
    "    if high >= low:\n",
    " \n",
    "        mid = (high + low) // 2\n",
    " \n",
    "        # If element is present at the middle itself\n",
    "        if List[mid] == x:\n",
    "            return mid\n",
    " \n",
    "        # If element is smaller than mid, then it can only\n",
    "        # be present in left sublist\n",
    "        elif List[mid] > x:\n",
    "            return binary_search(List, low, mid - 1, x)\n",
    " \n",
    "        # Else the element can only be present in right sublist\n",
    "        else:\n",
    "            return binary_search(List, mid + 1, high, x)\n",
    " \n",
    "    else:\n",
    "        # Element is not present in the list\n",
    "        return -1\n",
    "#create a list to be tested\n",
    "List = []\n",
    "ele=int(input('enter the number of elements: '))\n",
    "for i in range(ele):\n",
    "    a=int(input('enter the numbers to be added in list: '))\n",
    "    List.append(a)\n",
    "print(List)\n",
    "x = int(input('enter the number to be searched: '))\n",
    " \n",
    "# Function call\n",
    "result = binary_search(List, 0, len(List)-1, x)\n",
    " \n",
    "if result != -1:\n",
    "    print(\"Element is present at index\", str(result))\n",
    "else:\n",
    "    print(\"Element is not present in array\")"
   ]
  },
  {
   "cell_type": "markdown",
   "id": "6fb912a5",
   "metadata": {
    "id": "f12cc8c9"
   },
   "source": [
    "#### 15. Create a function which takes a txt filename as input and returns the number of words in that file."
   ]
  },
  {
   "cell_type": "code",
   "execution_count": 37,
   "id": "d1024d62",
   "metadata": {
    "id": "46492494"
   },
   "outputs": [
    {
     "name": "stdout",
     "output_type": "stream",
     "text": [
      "enter the filename: file1.txt\n",
      "5\n"
     ]
    }
   ],
   "source": [
    "def count_words(): #define a function\n",
    "    count=0 #initialising the variable count to zero\n",
    "    #open the file in read mode\n",
    "    #take the filename as input\n",
    "    with open(input('enter the filename.txt: '),'r') as file:\n",
    "        a=file.read() #read the file using read function\n",
    "        l=a.split() #split the string present inside the file using split function\n",
    "        count+=len(l) #count each word\n",
    "    return count #return the count\n",
    "print(count_words()) #calling the function"
   ]
  },
  {
   "cell_type": "markdown",
   "id": "cb44c43a",
   "metadata": {
    "id": "b2666c95"
   },
   "source": [
    "#### 16. Create a function which takes a txt filename as input and returns the number of line in the file."
   ]
  },
  {
   "cell_type": "code",
   "execution_count": 43,
   "id": "1a90a9ef",
   "metadata": {
    "id": "5ff27d42"
   },
   "outputs": [
    {
     "name": "stdout",
     "output_type": "stream",
     "text": [
      "enter the filename.txt: new_file.txt\n",
      "2\n"
     ]
    }
   ],
   "source": [
    "def count_lines(): #define a function\n",
    "    count=0\n",
    "    #open the file in read mode\n",
    "    #take the filename as input\n",
    "    with open(input('enter the filename.txt: '),'r') as file:\n",
    "        #using for loop for counting the number of lines\n",
    "        for i in file:\n",
    "            count+=1\n",
    "        print(count)\n",
    "count_lines() #calling the function"
   ]
  },
  {
   "cell_type": "markdown",
   "id": "8c745a9d",
   "metadata": {
    "id": "6722fb75"
   },
   "source": [
    "#### 17. Create a function that takes two txt filenames and returns a file after merging the cintents of two given files. (Print the merged content and then return the filename, content of original files should be unchanged)."
   ]
  },
  {
   "cell_type": "code",
   "execution_count": 8,
   "id": "363a1e5e",
   "metadata": {
    "id": "86a4b436"
   },
   "outputs": [
    {
     "name": "stdout",
     "output_type": "stream",
     "text": [
      "enter a text filename.txtfile1.txt\n",
      "enter a text filename.txthobby.txt\n",
      "hello, my name is vinay\n",
      "swimming\n",
      "reading\n",
      "sketching\n",
      "travelling\n",
      "playing badminton\n",
      "\n"
     ]
    }
   ],
   "source": [
    "def new_file():\n",
    "    #open the file in read mode\n",
    "    #take the filename as input\n",
    "    with open(input('enter a text filename.txt: '),'r') as f1:\n",
    "        content1=f1.read()\n",
    "    with open(input('enter a text filename.txt: '),'r') as f2:\n",
    "        content2=f2.read()\n",
    "    #merge the contents of first file with second file\n",
    "    content1+=\"\\n\"\n",
    "    content1+=content2\n",
    "    #open a new file in wrtie mode\n",
    "    file=open(\"new_file.txt\",'w')\n",
    "    #write the merged contents in the new file\n",
    "    file.write(content1)\n",
    "    file.close() #close the file after writing\n",
    "    #open the newly created file in read mode\n",
    "    file=open(\"new_file.txt\",'r')\n",
    "    #printing the contents of new file\n",
    "    print(file.read())\n",
    "new_file()#calling the function"
   ]
  },
  {
   "cell_type": "markdown",
   "id": "c09c6793",
   "metadata": {
    "id": "faf26668"
   },
   "source": [
    "#### 18. Write a program that takes a string as input and returns a list of all words having even length in that string (Using Map/Filter and Lambda expression)."
   ]
  },
  {
   "cell_type": "code",
   "execution_count": 9,
   "id": "27f181aa",
   "metadata": {
    "id": "955cd692"
   },
   "outputs": [
    {
     "name": "stdout",
     "output_type": "stream",
     "text": [
      "enter a string: my name is vinay\n",
      "['my', 'name', 'is']\n"
     ]
    }
   ],
   "source": [
    "def even_length_words(s): #define a function\n",
    "    word=s.split() #split the word using split function\n",
    "    new_string_filter=list(filter(lambda x: len(x) % 2 == 0, word)) #using filter and lambda method\n",
    "    \n",
    "    print(new_string_filter)\n",
    "even_length_words(input('enter a string: ')) #calling the function"
   ]
  },
  {
   "cell_type": "code",
   "execution_count": null,
   "id": "51aa53c3",
   "metadata": {
    "id": "A1z_AdWcyKJi"
   },
   "outputs": [],
   "source": []
  }
 ],
 "metadata": {
  "colab": {
   "provenance": []
  },
  "kernelspec": {
   "display_name": "Python 3 (ipykernel)",
   "language": "python",
   "name": "python3"
  },
  "language_info": {
   "codemirror_mode": {
    "name": "ipython",
    "version": 3
   },
   "file_extension": ".py",
   "mimetype": "text/x-python",
   "name": "python",
   "nbconvert_exporter": "python",
   "pygments_lexer": "ipython3",
   "version": "3.9.12"
  }
 },
 "nbformat": 4,
 "nbformat_minor": 5
}
