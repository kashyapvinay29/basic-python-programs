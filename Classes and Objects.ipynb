{
 "cells": [
  {
   "cell_type": "markdown",
   "id": "8a30d880",
   "metadata": {
    "id": "8a30d880"
   },
   "source": [
    "# Assessment - 6 Gradable\n",
    "\n",
    "- Each question carries 5 or 4 marks\n",
    "- Marks will be assigned in terms of:\n",
    "    \n",
    "    **1. Expected output**\n",
    "    \n",
    "    **2. Quality and Explainability of code**\n",
    "\n",
    "    ***Go back through the script and type a comment above each line explaining in English what it does.***\n",
    "\n",
    "    **3. Copied code, if found, will result in 0 marks for that question. To avoid this make as much comments in the code to explain the approach**"
   ]
  },
  {
   "cell_type": "markdown",
   "id": "86255064",
   "metadata": {
    "id": "86255064"
   },
   "source": [
    "### 1. \n",
    "\n",
    "Write a Program to create a class 'Company' and using the class instance and print all the writable attributes of that object such as age, gender, salary, profession and designation. We take atleast 5 employees of an organization"
   ]
  },
  {
   "cell_type": "code",
   "execution_count": 12,
   "id": "4a098962",
   "metadata": {
    "id": "4a098962"
   },
   "outputs": [
    {
     "name": "stdout",
     "output_type": "stream",
     "text": [
      "employee1:\n",
      "age:  29\n",
      "gender:  male\n",
      "salary:  35000\n",
      "profession:  engineer\n",
      "designation:  assisstant engineer\n",
      "\n",
      "employee2:\n",
      "age:  28\n",
      "gender:  female\n",
      "salary:  25000\n",
      "profession:  banker\n",
      "designation:  cashier\n",
      "\n",
      "employee3:\n",
      "age:  27\n",
      "gender:  male\n",
      "salary:  35000\n",
      "profession:  banker\n",
      "designation:  PO\n",
      "\n",
      "employee4:\n",
      "age:  32\n",
      "gender:  female\n",
      "salary:  45000\n",
      "profession:  banker\n",
      "designation:  branch manager\n",
      "\n",
      "employee5:\n",
      "age:  40\n",
      "gender:  male\n",
      "salary:  55000\n",
      "profession:  banker\n",
      "designation:  chairperson\n",
      "\n"
     ]
    }
   ],
   "source": [
    "#create a class company\n",
    "class company:\n",
    "    def __init__(self,age,gender,salary,profession,designation): # define a method to initialise the attributes using constructor\n",
    "        self.age= age\n",
    "        self.gender= gender\n",
    "        self.salary = salary\n",
    "        self.profession = profession\n",
    "        self.designation = designation\n",
    "    def employee_details(self):  #define a method to print the different attributes of the object\n",
    "        print('age: ',self.age)\n",
    "        print('gender: ', self.gender)\n",
    "        print('salary: ', self.salary)\n",
    "        print('profession: ', self.profession)\n",
    "        print('designation: ', self.designation)\n",
    "        print()\n",
    "#create different objects and assign their attributes   \n",
    "employee1 = company(29,'male',35000,'engineer','assisstant engineer')\n",
    "employee2= company(28,'female',25000,'banker','cashier')\n",
    "employee3= company(27,'male',35000,'banker','PO')\n",
    "employee4=company(32,'female',45000,'banker','branch manager')\n",
    "employee5= company(40,'male',55000,'banker','chairperson')\n",
    "#print all the attributes related to the object by calling the method employee_details\n",
    "print('employee1:')\n",
    "employee1.employee_details()\n",
    "print('employee2:')\n",
    "employee2.employee_details()\n",
    "print('employee3:')\n",
    "employee3.employee_details()\n",
    "print('employee4:')\n",
    "employee4.employee_details()\n",
    "print('employee5:')\n",
    "employee5.employee_details()"
   ]
  },
  {
   "cell_type": "markdown",
   "id": "df5c6917",
   "metadata": {
    "id": "df5c6917"
   },
   "source": [
    "### 2. \n",
    "\n",
    "Write a program to store details of 6 customers in a text file with features of Unique Customer Id, Name, Location, Phone Number, Last Purchase Date for an ecommerce website that canbe considered for future records\n"
   ]
  },
  {
   "cell_type": "code",
   "execution_count": 14,
   "id": "6aaac08a",
   "metadata": {
    "id": "6aaac08a"
   },
   "outputs": [
    {
     "name": "stdout",
     "output_type": "stream",
     "text": [
      "customer ID:  101\n",
      "Name:  vinay\n",
      "Location:  korba\n",
      "Phone number:  9027718122\n",
      "last purchase date (dd/mm/year):  29/02/2023\n",
      "\n",
      "customer ID:  102\n",
      "Name:  divaynshi\n",
      "Location:  lucknow\n",
      "Phone number:  585848383\n",
      "last purchase date (dd/mm/year):  21/10/2022\n",
      "\n",
      "customer ID:  103\n",
      "Name:  ashish\n",
      "Location:  meerut\n",
      "Phone number:  5858585321\n",
      "last purchase date (dd/mm/year):  12/04/2023\n",
      "\n",
      "customer ID:  104\n",
      "Name:  bipen\n",
      "Location:  korba\n",
      "Phone number:  8983749222\n",
      "last purchase date (dd/mm/year):  13/05/2023\n",
      "\n",
      "customer ID:  105\n",
      "Name:  anshu\n",
      "Location:  bilaspur\n",
      "Phone number:  988473738\n",
      "last purchase date (dd/mm/year):  27/12/2022\n",
      "\n",
      "customer ID:  106\n",
      "Name:  muskan\n",
      "Location:  raipur\n",
      "Phone number:  9484839393\n",
      "last purchase date (dd/mm/year):  31/12/2022\n",
      "\n"
     ]
    }
   ],
   "source": [
    "#create a class customer\n",
    "class customer():\n",
    "    def __init__(self,customer_id,name,location,phone_no,last_purchase_date): #define a method to initialise the value of attributes using constructor\n",
    "        self.customer_id=customer_id\n",
    "        self.name=name\n",
    "        self.location=location\n",
    "        self.phone_no=phone_no\n",
    "        self.last_purchase_date=last_purchase_date\n",
    "    def customer_details(self):    #define a method to print attributes of each object\n",
    "        print('customer ID: ', self.customer_id)\n",
    "        print('Name: ', self.name)\n",
    "        print('Location: ', self.location)\n",
    "        print('Phone number: ', self.phone_no)\n",
    "        print(\"last purchase date (dd/mm/year): \", self.last_purchase_date )\n",
    "        print()\n",
    "#create objects and assign the values of attributes related to them\n",
    "customer1= customer('101','vinay','korba','9027718122','29/02/2023')\n",
    "customer2= customer('102','divaynshi','lucknow','585848383','21/10/2022')\n",
    "customer3= customer('103','ashish','meerut','5858585321','12/04/2023')\n",
    "customer4= customer('104','bipen','korba','8983749222','13/05/2023')\n",
    "customer5= customer('105','anshu','bilaspur','988473738','27/12/2022')\n",
    "customer6= customer('106','muskan','raipur','9484839393','31/12/2022')\n",
    "#print all the details by calling the method customer_details\n",
    "customer1.customer_details()\n",
    "customer2.customer_details()\n",
    "customer3.customer_details()\n",
    "customer4.customer_details()\n",
    "customer5.customer_details()\n",
    "customer6.customer_details()\n",
    "#create a list of all the objects\n",
    "l=[customer1,customer2,customer3,customer4,customer5,customer6]\n",
    "#create a new text file \n",
    "file=open('customer.txt','w')\n",
    "for i in l: #iterate each object using for loop and to add multiple details\n",
    "    #write each attribute \n",
    "    file.write(i.customer_id + '\\t')\n",
    "    file.write(i.name + '\\t')\n",
    "    file.write(i.location + '\\t')\n",
    "    file.write(i.phone_no + '\\t')\n",
    "    file.write(i.last_purchase_date + '\\n')\n",
    "file.close() #close the file after completing the writing process"
   ]
  },
  {
   "cell_type": "markdown",
   "id": "51f22264",
   "metadata": {
    "id": "51f22264"
   },
   "source": [
    "### 3. \n",
    "\n",
    "Build a Simple Calculator using Exception Handling (try, except) that solves 4 arithmetic operations like Addition, Subtraction, Multiplication and Division.\n"
   ]
  },
  {
   "cell_type": "code",
   "execution_count": 13,
   "id": "5b52eb5c",
   "metadata": {
    "id": "5b52eb5c"
   },
   "outputs": [
    {
     "name": "stdout",
     "output_type": "stream",
     "text": [
      "Enter first number: 4\n",
      "Enter second number: 3\n",
      "1. Add\n",
      "2. Subtraction\n",
      "3. Multiplication\n",
      "4. Division\n",
      "Enter choice: 1\n",
      "Result:  7.0\n",
      "want to do another calculation, (yes/no): yes\n",
      "Enter first number: 5\n",
      "Enter second number: 6\n",
      "1. Add\n",
      "2. Subtraction\n",
      "3. Multiplication\n",
      "4. Division\n",
      "Enter choice: 3\n",
      "Result:  30.0\n",
      "want to do another calculation, (yes/no): yes\n",
      "Enter first number: 300\n",
      "Enter second number: 5\n",
      "1. Add\n",
      "2. Subtraction\n",
      "3. Multiplication\n",
      "4. Division\n",
      "Enter choice: 4\n",
      "Result:  60.0\n",
      "want to do another calculation, (yes/no): no\n",
      "\n"
     ]
    }
   ],
   "source": [
    "#create a class calculator\n",
    "class calculator():\n",
    "    def __init__(self,a,b): #define a method to initialise the attributes using constructor\n",
    "        self.a=a\n",
    "        self.b=b\n",
    "    #define different methods for mathematical operations\n",
    "    def add(self):\n",
    "        return self.a+self.b\n",
    "    def mul(self):\n",
    "        return self.a*self.b\n",
    "    def div(self):\n",
    "        return self.a/self.b\n",
    "    def sub(self):\n",
    "        return self.a-self.b\n",
    "\n",
    "\n",
    "choice=1\n",
    "while choice!=0:\n",
    "#use try and exception method to pass through the error\n",
    "    try:\n",
    "        a=float(input(\"Enter first number: \")) #enter the values of attributes\n",
    "        b=float(input(\"Enter second number: \"))\n",
    "    except ValueError:\n",
    "        print('invalid number, try again')\n",
    "        continue\n",
    "    obj=calculator(a,b) #create an object for this class\n",
    "    #given choice for different mathematical operations\n",
    "    #enter the given choice and use try and except method to pass the error\n",
    "    print(\"1. Add\")\n",
    "    print(\"2. Subtraction\")\n",
    "    print(\"3. Multiplication\")\n",
    "    print(\"4. Division\")\n",
    "    try:\n",
    "        choice=int(input(\"Enter choice: \"))\n",
    "    except ValueError:\n",
    "        print('invalid choice, try again')\n",
    "        continue\n",
    "    #conditions for accessing the different options\n",
    "    if choice==1:\n",
    "        print(\"Result: \",obj.add())\n",
    "    elif choice==2:\n",
    "        print(\"Result: \",obj.sub())\n",
    "    elif choice==3:\n",
    "        print(\"Result: \",obj.mul())\n",
    "    elif choice==4:\n",
    "    #for division used try and except method for zerodivisionerror\n",
    "        try:\n",
    "            print(\"Result: \",obj.div())\n",
    "        except ZeroDivisionError:\n",
    "            print('denominator cannot be zero, try again')\n",
    "            continue\n",
    "     #take an input for continuing the process again           \n",
    "    new=input('want to do another calculation, (yes/no): ')\n",
    "    if new=='no':\n",
    "        break\n",
    "    else:\n",
    "        continue\n",
    " \n",
    " \n",
    "print()\n"
   ]
  },
  {
   "cell_type": "code",
   "execution_count": 3,
   "id": "96a73975",
   "metadata": {},
   "outputs": [],
   "source": []
  },
  {
   "cell_type": "code",
   "execution_count": null,
   "id": "05d2ab32",
   "metadata": {},
   "outputs": [],
   "source": []
  }
 ],
 "metadata": {
  "colab": {
   "provenance": []
  },
  "kernelspec": {
   "display_name": "Python 3 (ipykernel)",
   "language": "python",
   "name": "python3"
  },
  "language_info": {
   "codemirror_mode": {
    "name": "ipython",
    "version": 3
   },
   "file_extension": ".py",
   "mimetype": "text/x-python",
   "name": "python",
   "nbconvert_exporter": "python",
   "pygments_lexer": "ipython3",
   "version": "3.9.12"
  }
 },
 "nbformat": 4,
 "nbformat_minor": 5
}
