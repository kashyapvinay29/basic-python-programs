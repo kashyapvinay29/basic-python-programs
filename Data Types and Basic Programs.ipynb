{
 "cells": [
  {
   "cell_type": "markdown",
   "id": "9cacd9e4",
   "metadata": {
    "id": "9cacd9e4"
   },
   "source": [
    "# Data Types\n",
    "- Write solution of each question in the cell given below the corresponsing question."
   ]
  },
  {
   "cell_type": "markdown",
   "id": "a36a3683",
   "metadata": {
    "id": "a36a3683"
   },
   "source": [
    "#### 1. Write a program to take principal amount, rate and interest as input and calculate simple interest."
   ]
  },
  {
   "cell_type": "code",
   "execution_count": 7,
   "id": "z6EiFHNI8sCg",
   "metadata": {
    "colab": {
     "base_uri": "https://localhost:8080/"
    },
    "executionInfo": {
     "elapsed": 10576,
     "status": "ok",
     "timestamp": 1675784300390,
     "user": {
      "displayName": "N Akash",
      "userId": "10398409566081282158"
     },
     "user_tz": -330
    },
    "id": "z6EiFHNI8sCg",
    "outputId": "cb3ec5fc-af97-4bfd-e9d0-72442cd4338e"
   },
   "outputs": [
    {
     "name": "stdout",
     "output_type": "stream",
     "text": [
      "Enter the amount : 3000\n",
      "Enter the rate of interest : 12\n",
      "Enter the duration for the interest : 1\n",
      "The simple interest =  360.0\n"
     ]
    }
   ],
   "source": [
    "amount = int(input('Enter the amount : '))                   #Enter the amount\n",
    "rate = int(input('Enter the rate of interest : '))           #Enter the rate of interest\n",
    "time = int(input('Enter the year for the interest : '))      #Enter the duration for the rate of interest\n",
    "\n",
    "#Simple interest = principle amount * rate of interest * time interval  ----> Formula to calculate Simple interest\n",
    "\n",
    "S = (amount*rate*time)/100                                   #----> Formula to calculate Simple interest\n",
    "\n",
    "print('The simple interest = ', S)"
   ]
  },
  {
   "cell_type": "markdown",
   "id": "3a9994e0",
   "metadata": {
    "id": "3a9994e0"
   },
   "source": [
    "#### 2. Write a program that takes a string as input and prints the number of words in the string."
   ]
  },
  {
   "cell_type": "code",
   "execution_count": 2,
   "id": "SQokqn-Pm7Zv",
   "metadata": {
    "colab": {
     "base_uri": "https://localhost:8080/"
    },
    "executionInfo": {
     "elapsed": 17412,
     "status": "ok",
     "timestamp": 1675786508691,
     "user": {
      "displayName": "N Akash",
      "userId": "10398409566081282158"
     },
     "user_tz": -330
    },
    "id": "SQokqn-Pm7Zv",
    "outputId": "065225c4-64e8-4e76-89f4-e653f9e2310c"
   },
   "outputs": [
    {
     "name": "stdout",
     "output_type": "stream",
     "text": [
      "write a sentence:my name is vinay kashyap\n",
      "my name is vinay kashyap\n",
      "5\n"
     ]
    }
   ],
   "source": [
    "a=str(input('write a sentence:' ))  #enter the string to get counted\n",
    "print(a) #print the entered string\n",
    "#split the string using split function\n",
    "#then calculate the number of words in string using len function\n",
    "print(len(a.split())) #print the number of words"
   ]
  },
  {
   "cell_type": "markdown",
   "id": "8a8d5e27",
   "metadata": {
    "id": "8a8d5e27"
   },
   "source": [
    "#### 3. Write a program to take a list of numbers as input (in a single line) and print the sum, avg, max and min elements."
   ]
  },
  {
   "cell_type": "code",
   "execution_count": 3,
   "id": "lLtHVeEC8utA",
   "metadata": {
    "colab": {
     "base_uri": "https://localhost:8080/"
    },
    "executionInfo": {
     "elapsed": 861,
     "status": "ok",
     "timestamp": 1675787534020,
     "user": {
      "displayName": "N Akash",
      "userId": "10398409566081282158"
     },
     "user_tz": -330
    },
    "id": "lLtHVeEC8utA",
    "outputId": "a3b77d80-b5ba-4be8-99c5-ecda5c2a2163"
   },
   "outputs": [
    {
     "name": "stdout",
     "output_type": "stream",
     "text": [
      "How many numbers you wanna add to list : 5\n",
      "enter the numbers: 12\n",
      "enter the numbers: 43\n",
      "enter the numbers: 23\n",
      "enter the numbers: 54\n",
      "enter the numbers: 33\n",
      "list:  [12, 43, 23, 54, 33]\n",
      "sum:  165\n",
      "average:  33.0\n",
      "maximum element in the list:  54\n",
      "minimum element in the list:  12\n"
     ]
    }
   ],
   "source": [
    "# x = int(input(\"How many numbers you wanna add to list : \" ))\n",
    "x=int(input('How many numbers you wanna add to list : '))\n",
    "a =[]     #create an empty list\n",
    "\n",
    "for i in range(0,x):\n",
    "    num = int(input('enter the numbers: '))  # enter the numbers and add them to the list\n",
    "    a.append(num)\n",
    "print('list: ',a)  # print the list of numbers\n",
    "s_sum=sum(a)    # summation of numbers in the list\n",
    "average=s_sum/x     # calculating the average of numbers in the list\n",
    "print('sum: ',s_sum)            # print the sum\n",
    "print('average: ',average)      #print the average \n",
    "print('maximum element in the list: ', max(a))     #print the maximum element in the list using max() function\n",
    "print('minimum element in the list: ', min(a))     #print the minimum element in the list using min() function\n"
   ]
  },
  {
   "cell_type": "markdown",
   "id": "17dbd6e8",
   "metadata": {
    "id": "17dbd6e8"
   },
   "source": [
    "#### 4. Write a program to take the marks of 3 students in five subjects each as a list (one list for each input) as input and print the average score of each student.."
   ]
  },
  {
   "cell_type": "code",
   "execution_count": 4,
   "id": "Olics1_krMwN",
   "metadata": {
    "id": "Olics1_krMwN"
   },
   "outputs": [
    {
     "name": "stdout",
     "output_type": "stream",
     "text": [
      "enter the marks of student1: 34\n",
      "enter the marks of student2: 56\n",
      "enter the marks of student3: 76\n",
      "enter the marks of student1: 56\n",
      "enter the marks of student2: 76\n",
      "enter the marks of student3: 56\n",
      "enter the marks of student1: 88\n",
      "enter the marks of student2: 67\n",
      "enter the marks of student3: 57\n",
      "enter the marks of student1: 86\n",
      "enter the marks of student2: 45\n",
      "enter the marks of student3: 76\n",
      "enter the marks of student1: 56\n",
      "enter the marks of student2: 87\n",
      "enter the marks of student3: 56\n",
      "marks of student1:  [34, 56, 88, 86, 56]\n",
      "marks of student2:  [56, 76, 67, 45, 87]\n",
      "marks of student3:  [76, 56, 57, 76, 56]\n",
      "average marks of student1 is : 64.0\n",
      "average marks of student2 is : 66.2\n",
      "average marks of student3 is : 64.2\n"
     ]
    }
   ],
   "source": [
    "student1=[]     #create a list for student 1\n",
    "student2=[]     #create a list for student 2\n",
    "student3=[]     #create a list for student 3\n",
    "for i in range(0,5):   #using for loop for entering multiple elements\n",
    "    student1_marks=int(input('enter the marks of student1: '))   #enter marks of student1 using input function\n",
    "    student2_marks=int(input('enter the marks of student2: '))   #enter marks of student2 using input function\n",
    "    student3_marks=int(input('enter the marks of student3: '))   #enter marks of student3 using input function\n",
    "    student1.append(student1_marks)    #adding marks to list of student1 using append function\n",
    "    student2.append(student2_marks)    #adding marks to list of student2 using append function\n",
    "    student3.append(student3_marks)    #adding marks to list of student3 using append function\n",
    "    \n",
    "print('marks of student1: ',student1)   #printing marks of student1\n",
    "print('marks of student2: ',student2)   #printing marks of student2\n",
    "print('marks of student3: ',student3)   #printing marks of student3\n",
    "# average = (sum of all the elements)/(total number of elements)--> using this formula to calculate the average marks \n",
    "print('average marks of student1 is :', sum(student1)/5)  #printing the average marks of student1\n",
    "print('average marks of student2 is :', sum(student2)/5)  #printing the average marks of student1\n",
    "print('average marks of student3 is :', sum(student3)/5)  #printing the average marks of student1"
   ]
  },
  {
   "cell_type": "markdown",
   "id": "39fb8526",
   "metadata": {
    "id": "39fb8526"
   },
   "source": [
    "#### 5. Write a program to take a list as input containing results of 10 coin tosses as 'H' or 'T'. Jon gets a point for each 'T' and Tom gets a point for each 'H'. print the points recieved by both."
   ]
  },
  {
   "cell_type": "code",
   "execution_count": 5,
   "id": "83ad7dc6",
   "metadata": {
    "id": "83ad7dc6"
   },
   "outputs": [
    {
     "name": "stdout",
     "output_type": "stream",
     "text": [
      "enter the results of tosses as H & T: H\n",
      "enter the results of tosses as H & T: T\n",
      "enter the results of tosses as H & T: T\n",
      "enter the results of tosses as H & T: T\n",
      "enter the results of tosses as H & T: T\n",
      "enter the results of tosses as H & T: H\n",
      "enter the results of tosses as H & T: H\n",
      "enter the results of tosses as H & T: H\n",
      "enter the results of tosses as H & T: H\n",
      "enter the results of tosses as H & T: H\n",
      "the outcome of tosses: ['H', 'T', 'T', 'T', 'T', 'H', 'H', 'H', 'H', 'H']\n",
      "points achieved by tom:  6\n",
      "points achieved by jon:  4\n"
     ]
    }
   ],
   "source": [
    "result=[]  #create an empty list\n",
    "for i in range(0,10):  #using for loop for entering multiple elements in the list\n",
    "    coin=input('enter the results of tosses as H & T: ')  #enter the result of tosses\n",
    "    result.append(coin)  #adding the entered results of tosses in the list \n",
    "print('the outcome of tosses:',result) #print the outcome of tosses\n",
    "#counting the number of elements using count() function\n",
    "a=result.count('H')  #counting the number of H and storing it in \"a\"\n",
    "b=result.count('T')  #counting the number of T and storing it in \"b\"\n",
    "print('points achieved by tom: ',a) #print the points achieved by tom\n",
    "print('points achieved by jon: ',b) #print the points achieved by jon\n",
    "    "
   ]
  },
  {
   "cell_type": "markdown",
   "id": "4a6dc391",
   "metadata": {
    "id": "4a6dc391"
   },
   "source": [
    "#### 6. Take two numbers as input and print the result after swapping them. (Without using multiple assignment and any extra variable)."
   ]
  },
  {
   "cell_type": "code",
   "execution_count": 12,
   "id": "1bcd0fe3",
   "metadata": {
    "id": "1bcd0fe3"
   },
   "outputs": [
    {
     "name": "stdout",
     "output_type": "stream",
     "text": [
      "enter the value of x: 2\n",
      "enter the value of y: 3\n",
      "before swapping\n",
      "x=  2\n",
      "y=  3\n",
      "after swapping\n",
      "x = 3\n",
      "y = 2\n"
     ]
    }
   ],
   "source": [
    "#take two integer values for x and y\n",
    "x = int(input('enter the value of x: '))\n",
    "y = int(input('enter the value of y: '))\n",
    "print('before swapping')  #print the numbers before swapping\n",
    "print('x= ',x )\n",
    "print('y= ',y)\n",
    "x, y = y, x    #condition for swapping\n",
    "print('after swapping') #print the numbers after swapping\n",
    "print(\"x =\", x)\n",
    "print(\"y =\", y)"
   ]
  },
  {
   "cell_type": "markdown",
   "id": "b0059e36",
   "metadata": {
    "id": "b0059e36"
   },
   "source": [
    "#### 7. Take a list as input in a single line containing 10 numbers as marks out of 100. The even positions in the list are marks of Tom and the odd positions are the marks of Jon. Calculate the average marks of both."
   ]
  },
  {
   "cell_type": "code",
   "execution_count": 13,
   "id": "ef40ed32",
   "metadata": {
    "id": "ef40ed32"
   },
   "outputs": [
    {
     "name": "stdout",
     "output_type": "stream",
     "text": [
      "enter the marks: 56\n",
      "enter the marks: 76\n",
      "enter the marks: 67\n",
      "enter the marks: 98\n",
      "enter the marks: 67\n",
      "enter the marks: 66\n",
      "enter the marks: 99\n",
      "enter the marks: 45\n",
      "enter the marks: 67\n",
      "enter the marks: 76\n",
      "list of marks:  [56, 76, 67, 98, 67, 66, 99, 45, 67, 76]\n",
      "marks of tom are:  [56, 67, 67, 99, 67]\n",
      "marks of jon are:  [76, 98, 66, 45, 76]\n",
      "average marks of tom is:  71.2\n",
      "average marks of jon is:  72.2\n"
     ]
    }
   ],
   "source": [
    "l=list()    # create an empty list\n",
    "for i in range(0,10):  # using for loop for inputing multiple elements in the list\n",
    "    marks=int(input('enter the marks: ')) #enter the marks to be added in list\n",
    "    l.append(marks)    #adding elements in the list using append function\n",
    "print('list of marks: ',l)\n",
    "tom=l[::2]     #using index for accessing element at even position\n",
    "jon=l[1::2]    #using index for accessing element at odd position\n",
    "print('marks of tom are: ',tom)  #printing marks of tom\n",
    "print('marks of jon are: ',jon)  #printing marks of jon\n",
    " #average=(sum of numbers)/(total numbers)--> formula for calculating average\n",
    "print('average marks of tom is: ',sum(tom)/5)  #printing average marks of tom\n",
    "print('average marks of jon is: ',sum(jon)/5)  #printing average marks of jon"
   ]
  },
  {
   "cell_type": "markdown",
   "id": "f07dab7c",
   "metadata": {
    "id": "f07dab7c"
   },
   "source": [
    "#### 8. Take a string and a character as input. Print the result having the character between each word of the given string."
   ]
  },
  {
   "cell_type": "code",
   "execution_count": 3,
   "id": "a85ca910",
   "metadata": {
    "colab": {
     "base_uri": "https://localhost:8080/"
    },
    "executionInfo": {
     "elapsed": 8,
     "status": "ok",
     "timestamp": 1675744131872,
     "user": {
      "displayName": "Star Agile",
      "userId": "05958537219244458985"
     },
     "user_tz": -330
    },
    "id": "a85ca910",
    "outputId": "4464ab37-ebb1-4fda-f2c9-204f3c416701"
   },
   "outputs": [
    {
     "name": "stdout",
     "output_type": "stream",
     "text": [
      "enter a word: my name is vinay\n",
      "enter a character: @\n",
      " the new string is :  my@name@is@vinay\n"
     ]
    }
   ],
   "source": [
    "string = str(input('enter a word: ')) #take a string as input\n",
    " \n",
    "char=input('enter a character: ') #enter any character\n",
    "new_string=string.replace(' ',char) #replace the space with character\n",
    "print(' the new string is : ',new_string)"
   ]
  },
  {
   "cell_type": "markdown",
   "id": "a45320b7",
   "metadata": {
    "id": "a45320b7"
   },
   "source": [
    "#### 9. Create a dictionary having three items. Key of each item is the name of a student, value associated with each key is a list of marks in five subjects. Given this dictionary print the average score of each student."
   ]
  },
  {
   "cell_type": "code",
   "execution_count": null,
   "id": "2vFaqcGP-MmK",
   "metadata": {
    "id": "2vFaqcGP-MmK"
   },
   "outputs": [],
   "source": [
    "student={\"vinay\":[58,66,54,72,76],\"ashish\":[46,48,86,88,46],\"wasim\":[56,42,44,34,32]}  #create a dictionary of student name as key and their marks in five subjects as value\n",
    "print('the dictonary of three students and their marks: ',student) #print the dictionary\n",
    "# average = (sum of all the elements)/(total number of elements)--> using this formula to calculate the average marks\n",
    "print('average marks of vinay: ',sum(student[\"vinay\"])/5)  #print average marks of vinay\n",
    "print('average marks of ashish: ',sum(student[\"ashish\"])/5)  #print average marks of ashish\n",
    "print('average marks of wasim: ',sum(student[\"wasim\"])/5)   #print average marks of wasim\n"
   ]
  },
  {
   "cell_type": "markdown",
   "id": "aba63bd1",
   "metadata": {
    "id": "aba63bd1"
   },
   "source": [
    "#### 10. Take a string as input(may contain repetitive words), print a list consisting of unique words from the given string."
   ]
  },
  {
   "cell_type": "code",
   "execution_count": 8,
   "id": "LAcgERg-NDMj",
   "metadata": {
    "id": "LAcgERg-NDMj"
   },
   "outputs": [
    {
     "name": "stdout",
     "output_type": "stream",
     "text": [
      "enter a string:hey hey hey hello hello hello\n",
      "unique words are:  ['hello', 'hey']\n"
     ]
    }
   ],
   "source": [
    "string= input('enter a string:') #take a string as input\n",
    "#split the string using split function\n",
    "a=set(string.split()) #create a set of splitted string using set function \n",
    "print('unique words are: ',list(a)) #print the list of unique words"
   ]
  },
  {
   "cell_type": "code",
   "execution_count": null,
   "id": "M_L5hUeBtYzG",
   "metadata": {
    "id": "M_L5hUeBtYzG"
   },
   "outputs": [],
   "source": []
  }
 ],
 "metadata": {
  "colab": {
   "provenance": []
  },
  "kernelspec": {
   "display_name": "Python 3 (ipykernel)",
   "language": "python",
   "name": "python3"
  },
  "language_info": {
   "codemirror_mode": {
    "name": "ipython",
    "version": 3
   },
   "file_extension": ".py",
   "mimetype": "text/x-python",
   "name": "python",
   "nbconvert_exporter": "python",
   "pygments_lexer": "ipython3",
   "version": "3.9.12"
  }
 },
 "nbformat": 4,
 "nbformat_minor": 5
}
