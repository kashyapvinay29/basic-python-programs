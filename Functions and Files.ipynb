{
 "cells": [
  {
   "cell_type": "markdown",
   "id": "26df0e50",
   "metadata": {
    "id": "d72f8ceb"
   },
   "source": [
    "# Assessment - 5 Gradable\n",
    "\n",
    "- Each question carries 5 or 4 marks\n",
    "- Marks will be assigned in terms of:\n",
    "    \n",
    "    **1. Expected output**\n",
    "    \n",
    "    **2. Quality and Explainability of code**\n",
    "\n",
    "    ***Go back through the script and type a comment above each line explaining in English what it does.***\n",
    "\n",
    "    **3. Copied code, if found, will result in 0 marks for that question. To avoid this make as much comments in the code to explain the approach**"
   ]
  },
  {
   "cell_type": "markdown",
   "id": "f0ff21f1",
   "metadata": {
    "id": "e5819cc0"
   },
   "source": [
    "### 1. \n",
    "\n",
    "Create a function ``lets_find_88`` Given a list of ints, return True if the array contains a 8 next to a 8 somewhere.\n",
    "- lets_find_88([1, 8, 8]) → True\n",
    "- lets_find_88([1, 8, 1, 8]) → False\n",
    "- lets_find_88([8, 1, 8]) → False"
   ]
  },
  {
   "cell_type": "code",
   "execution_count": 2,
   "id": "a9982d85",
   "metadata": {
    "id": "88e3b5b4"
   },
   "outputs": [
    {
     "name": "stdout",
     "output_type": "stream",
     "text": [
      "true\n",
      "false\n",
      "false\n"
     ]
    }
   ],
   "source": [
    "def lets_find_88(nums):  #define a function\n",
    "    for i in range(len(nums)-1):   #iterate each element in the list\n",
    "        if nums[i]==8 and nums[i+1]==8:  #condition for consecutive elements to be equal to 8\n",
    "            return 'true'\n",
    "    return 'false'\n",
    "        \n",
    "nums=[]\n",
    "#calling the function\n",
    "print(lets_find_88([1, 8, 8]))\n",
    "print(lets_find_88([1, 8, 1, 8]))\n",
    "print(lets_find_88([8, 1, 8]))"
   ]
  },
  {
   "cell_type": "markdown",
   "id": "f8cd2f74",
   "metadata": {
    "id": "6b3f11fd"
   },
   "source": [
    "### 2. \n",
    "\n",
    "ANIMAL CRACKERS: Write a function takes a two-word string and returns True if both words begin with same letter and returns False if both words begin with different letter\n",
    "- animal_crackers('Levelheaded Lion') --> True\n",
    "- animal_crackers('Cute Kangaroo') --> False"
   ]
  },
  {
   "cell_type": "code",
   "execution_count": 4,
   "id": "cdf36cca",
   "metadata": {
    "id": "15e45ae3"
   },
   "outputs": [
    {
     "name": "stdout",
     "output_type": "stream",
     "text": [
      "true\n",
      "false\n",
      "true\n"
     ]
    }
   ],
   "source": [
    "def animal_crackers(text): #define a function\n",
    "    words=text.split()   #split the string using split function\n",
    "    if words[0][0].lower()==words[1][0].lower():  #condition for comparing the first letter of each string using indexing\n",
    "        return 'true'\n",
    "    return 'false'\n",
    "#calling the function\n",
    "print(animal_crackers('Levelheaded Lion'))\n",
    "print(animal_crackers('Cute Kangaroo'))\n"
   ]
  },
  {
   "cell_type": "markdown",
   "id": "82f0d35e",
   "metadata": {
    "id": "42453e7d"
   },
   "source": [
    "3. \n",
    "\n",
    "Write a function ``how_many_primes`` that returns the number of prime numbers that exist up to and including a given number\n",
    "\n",
    "- how_many_primes(100) --> 25"
   ]
  },
  {
   "cell_type": "code",
   "execution_count": 55,
   "id": "35994345",
   "metadata": {
    "id": "b3302ec4"
   },
   "outputs": [
    {
     "name": "stdout",
     "output_type": "stream",
     "text": [
      "25\n"
     ]
    }
   ],
   "source": [
    "def how_many_primes(n): #define a function\n",
    "    count=0       #initialising the variable to zero\n",
    "    for num in range(n):\n",
    "   # all prime numbers are greater than 1\n",
    "       if num > 1:\n",
    "            for i in range(2, num): #using for loop to iterate over a range\n",
    "                if (num % i) == 0:  #condition for prime number\n",
    "                    break\n",
    "            else:\n",
    "                count+=1\n",
    "    return count   \n",
    "print(how_many_primes(100)) #calling the function"
   ]
  },
  {
   "cell_type": "markdown",
   "id": "3d45edce",
   "metadata": {
    "id": "2b5f6f63"
   },
   "source": [
    "### 4. \n",
    "\n",
    "b = open(\"assignment.txt\")\n",
    "\n",
    "Consider the code given above and write the answers to the following :\n",
    "\n",
    "- Identify the name of the file : \n",
    "- Identify the name of the function used above : \n",
    "- What is 'b' in above code :\n",
    "- The above statement will  ____________ file in ___________ mode."
   ]
  },
  {
   "cell_type": "code",
   "execution_count": null,
   "id": "a169e37a",
   "metadata": {},
   "outputs": [],
   "source": [
    "b = open(\"assignment.txt\")\n",
    "\n",
    "Consider the code given above and write the answers to the following :\n",
    "\n",
    "Identify the name of the file : assignment.txt\n",
    "Identify the name of the function used above : open\n",
    "What is 'b' in above code : variable\n",
    "The above statement will open file in read mode."
   ]
  },
  {
   "cell_type": "markdown",
   "id": "a6efc794",
   "metadata": {
    "id": "6c9eb680"
   },
   "source": [
    "### 5.\n",
    "\n",
    "Accept five hobbies from the user and write in a file 'hobby.txt'. Then Read the file to list out all the 5 hobbies from the user."
   ]
  },
  {
   "cell_type": "code",
   "execution_count": 3,
   "id": "7e08174a",
   "metadata": {
    "id": "1b9db22c"
   },
   "outputs": [
    {
     "name": "stdout",
     "output_type": "stream",
     "text": [
      "enter hobbies: swimming\n",
      "enter hobbies: reading\n",
      "enter hobbies: sketching\n",
      "enter hobbies: travelling\n",
      "enter hobbies: playing badminton\n",
      "the hobbies are: \n",
      "swimming\n",
      "reading\n",
      "sketching\n",
      "travelling\n",
      "playing badminton\n",
      "\n",
      "\n"
     ]
    }
   ],
   "source": [
    "file=open(\"hobby.txt\",'w')   #using open function to create a text file in write mode\n",
    "for i in range(5):    #using for loop to enter multiple inputs\n",
    "    hobbies=input('enter hobbies: ')\n",
    "    file.write(hobbies +'\\n')   #writing in text file \n",
    "file.close()\n",
    "with open(\"hobby.txt\",'r') as file:  #using open function to create a text file in read  mode\n",
    "    print('the hobbies are: ')\n",
    "    print(file.read())  #printing the all the contents stored in text file\n",
    "    print()\n",
    "file.close()"
   ]
  },
  {
   "cell_type": "code",
   "execution_count": null,
   "id": "7eff4b87",
   "metadata": {},
   "outputs": [],
   "source": []
  }
 ],
 "metadata": {
  "colab": {
   "provenance": []
  },
  "kernelspec": {
   "display_name": "Python 3 (ipykernel)",
   "language": "python",
   "name": "python3"
  },
  "language_info": {
   "codemirror_mode": {
    "name": "ipython",
    "version": 3
   },
   "file_extension": ".py",
   "mimetype": "text/x-python",
   "name": "python",
   "nbconvert_exporter": "python",
   "pygments_lexer": "ipython3",
   "version": "3.9.12"
  }
 },
 "nbformat": 4,
 "nbformat_minor": 5
}
