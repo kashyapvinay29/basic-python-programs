{
 "cells": [
  {
   "cell_type": "markdown",
   "id": "5fad3b2a",
   "metadata": {
    "id": "5fad3b2a"
   },
   "source": [
    "# Assessment - 2 Gradable\n",
    "\n",
    "- Each question carries 3 marks\n",
    "- Marks will be assigned in terms of:\n",
    "    \n",
    "    **1. Expected output**\n",
    "    \n",
    "    **2. Quality and Explainability of code**\n",
    "\n",
    "    ***Go back through the script and type a comment above each line explaining in English what it does.***\n",
    "\n",
    "    **3. Copied code, if found, will result in 0 marks for that question. To avoid this make as much comments in the code to explain the approach**"
   ]
  },
  {
   "cell_type": "markdown",
   "id": "03363a58",
   "metadata": {
    "id": "03363a58"
   },
   "source": [
    "### 1.\n",
    "\n",
    "Write a Python program to perform following tasks on a list\n",
    "\n",
    "<ol>\n",
    "    <li>Create an empty list with name l1</li>\n",
    "    <li>Add atleast 5 number to the l1</li>\n",
    "    <li>Add 100 at 2<sup>nd</sup> position</li>\n",
    "    <li>Add 1000 at front of the l1</li>\n",
    "    <li>Delete element at 3<sup>rd</sup> position</li>\n",
    "    <li>Display elements at even position</li>\n",
    "    <li>Display elements in reverse order</li>\n",
    "</ol>"
   ]
  },
  {
   "cell_type": "code",
   "execution_count": 16,
   "id": "73d7418b",
   "metadata": {
    "id": "73d7418b"
   },
   "outputs": [
    {
     "name": "stdout",
     "output_type": "stream",
     "text": [
      "[]\n",
      "enter the number of elements you want to add: 5\n",
      "enter the numbers: 1\n",
      "enter the numbers: 2\n",
      "enter the numbers: 3\n",
      "enter the numbers: 4\n",
      "enter the numbers: 5\n",
      "the list of numbers is: ['1', '2', '3', '4', '5']\n",
      "['1', 100, '2', '3', '4', '5']\n",
      "[1000, '1', 100, '2', '3', '4', '5']\n",
      "[1000, '1', '2', '3', '4', '5']\n",
      "[1000, '2', '4']\n",
      "['5', '4', '3', '2', '1', 1000]\n"
     ]
    }
   ],
   "source": [
    "l1=[]     #create an empty list\n",
    "print(l1) # print an empty list\n",
    "n= int(input('enter the number of elements you want to add: '))    #taking number of element in list as input\n",
    "for i in range (0,n):\n",
    "    num=input('enter the numbers: ')    # enter the numbers to be added in the list\n",
    "    l1.append(num)                      #adding numbers to the list using append function\n",
    "print('the list of numbers is:', l1)    #print the list of numbers\n",
    "l1.insert(1,100)   #adding 100 at 2nd position using insert function\n",
    "print(l1)\n",
    "l1.insert(0,1000)  #adding 1000 at front of the list\n",
    "print(l1)\n",
    "del l1[2]          #deleting the element at 3rd position using del function\n",
    "print(l1)\n",
    "print(l1[::2])     # printing the elements at even position using indexes\n",
    "l1.reverse()       # printing the reverse order of numbers in the list using reverse function\n",
    "print(l1)"
   ]
  },
  {
   "cell_type": "markdown",
   "id": "3d5efe73",
   "metadata": {
    "id": "3d5efe73"
   },
   "source": [
    "### 2. \n",
    "\n",
    "Grab ``StarAgile`` from the following Dictionaries\n",
    "\n",
    "d_difficult = {'k1':[{'nest_key':['this is deep',['StarAgile']]}]}\n",
    "\n",
    "d_irritating = {'k1':[1,2,{'k2':['this is not easy',{'VeryIrriating':[1,2,['StarAgile']]}]}]}"
   ]
  },
  {
   "cell_type": "code",
   "execution_count": 1,
   "id": "9fb35ce9",
   "metadata": {
    "id": "9fb35ce9"
   },
   "outputs": [
    {
     "name": "stdout",
     "output_type": "stream",
     "text": [
      "StarAgile\n",
      "StarAgile\n"
     ]
    }
   ],
   "source": [
    "d_difficult = {'k1':[{'nest_key':['this is deep',['StarAgile']]}]} #initialising the dictionary\n",
    "\n",
    "d_irritating = {'k1':[1,2,{'k2':['this is not easy',{'VeryIrriating':[1,2,['StarAgile']]}]}]}\n",
    "\n",
    "print(d_difficult['k1'][0]['nest_key'][1][0]) #accesing the required element through keys and their values\n",
    "print(d_irritating['k1'][2]['k2'][1]['VeryIrriating'][2][0])   #accesing the required element through keys and their values"
   ]
  },
  {
   "cell_type": "markdown",
   "id": "0540a188",
   "metadata": {
    "id": "0540a188"
   },
   "source": [
    "### 3.\n",
    "\n",
    "Write a program to accept a string from the user and display characters that are present at an even index number.\n",
    "\n",
    "For example, str = \"judgemental\" so you should display ‘j’, ‘d’, ‘e’, ‘e’, ‘t’, ‘l’."
   ]
  },
  {
   "cell_type": "code",
   "execution_count": 23,
   "id": "21f5b9dd",
   "metadata": {
    "id": "21f5b9dd"
   },
   "outputs": [
    {
     "name": "stdout",
     "output_type": "stream",
     "text": [
      "enter a string: vinay\n",
      "vinay\n",
      "characters present at even index number are:  vny "
     ]
    }
   ],
   "source": [
    "str=input('enter a string: ') #enter a string using input function\n",
    "print(str)  #print the string\n",
    "print('characters present at even index number are: ',str[::2], end=\" \") #printing the characters of the string present at even index number"
   ]
  },
  {
   "cell_type": "markdown",
   "id": "e0884cde",
   "metadata": {
    "id": "e0884cde"
   },
   "source": [
    "### 4. \n",
    "\n",
    "Convert the Float Value of '3.8' into Integer, Complex, Binary and Hexidecimal format"
   ]
  },
  {
   "cell_type": "code",
   "execution_count": 23,
   "id": "99555c16",
   "metadata": {
    "id": "99555c16"
   },
   "outputs": [
    {
     "name": "stdout",
     "output_type": "stream",
     "text": [
      "integer value is: 3\n",
      "complex value is: (3.8+0j)\n",
      "binary value is:  11\n",
      "hexadecimal value is:  1.e666666666666p+1\n"
     ]
    }
   ],
   "source": [
    "float_value=3.8\n",
    "print('integer value is:', int(float_value))  #convert the float value into integer using int() function\n",
    "print('complex value is:', complex(float_value)) #convert the float value into complex number using complex() function\n",
    "print('binary value is: ',bin(int(float_value)).lstrip('0b')) #convert the float value into binary using bin() function and remove the prefix using lstrip()\n",
    "print('hexadecimal value is: ',float.hex(float_value).lstrip('0x')) #convert the float value into hexadecimal using float.hex() function and remove the prefix using lstrip()"
   ]
  },
  {
   "cell_type": "markdown",
   "id": "25187f2c",
   "metadata": {
    "id": "25187f2c"
   },
   "source": [
    "### 5. \n",
    "\n",
    "Write a program to accept five names from the user and store it in a Tuple 'T1'"
   ]
  },
  {
   "cell_type": "code",
   "execution_count": 15,
   "id": "7e9e98e3",
   "metadata": {
    "id": "7e9e98e3"
   },
   "outputs": [
    {
     "name": "stdout",
     "output_type": "stream",
     "text": [
      "enter a name:a\n",
      "enter a name:s\n",
      "enter a name:d\n",
      "enter a name:w\n",
      "enter a name:r\n",
      "the tuple of names: ('a', 's', 'd', 'w', 'r')\n"
     ]
    }
   ],
   "source": [
    "m=list()                              #create a list\n",
    "for i in range(5):                    #iterate using for loop to multiple name \n",
    "    name=input('enter a name:' )      # enter the names to added using input function\n",
    "    m.append(name)                    #add names to list using append function\n",
    "T1=tuple(m)                           #convert the list into tuple\n",
    "print('the tuple of names T1:', T1)   # print the tuple of names"
   ]
  },
  {
   "cell_type": "code",
   "execution_count": null,
   "id": "bbbfe307",
   "metadata": {},
   "outputs": [],
   "source": []
  }
 ],
 "metadata": {
  "colab": {
   "provenance": []
  },
  "kernelspec": {
   "display_name": "Python 3 (ipykernel)",
   "language": "python",
   "name": "python3"
  },
  "language_info": {
   "codemirror_mode": {
    "name": "ipython",
    "version": 3
   },
   "file_extension": ".py",
   "mimetype": "text/x-python",
   "name": "python",
   "nbconvert_exporter": "python",
   "pygments_lexer": "ipython3",
   "version": "3.9.12"
  }
 },
 "nbformat": 4,
 "nbformat_minor": 5
}
