{
 "cells": [
  {
   "cell_type": "markdown",
   "metadata": {
    "id": "b462dadb"
   },
   "source": [
    "# Iterative Statements\n",
    "- Write solution of each question in the cell given below the corresponsing question."
   ]
  },
  {
   "cell_type": "markdown",
   "metadata": {
    "id": "f5aefe41"
   },
   "source": [
    "#### 1. Tom and Bob are playing a game of dice. Each time a multiple of two comes up Tom gets a point and if a multiple of 3 comes up bob gets a point. If a multiple of both comes up then a point is deducted from both. Write a program to take a list as input consisting of 10 outcomes of the dice throw. Print the scores of both Tom and bob and the winner."
   ]
  },
  {
   "cell_type": "code",
   "execution_count": 1,
   "metadata": {
    "id": "62bf16f1"
   },
   "outputs": [
    {
     "name": "stdout",
     "output_type": "stream",
     "text": [
      "enter the outcomes between 1 to 6 : 1\n",
      "enter the outcomes between 1 to 6 : 2\n",
      "enter the outcomes between 1 to 6 : 3\n",
      "enter the outcomes between 1 to 6 : 4\n",
      "enter the outcomes between 1 to 6 : 5\n",
      "enter the outcomes between 1 to 6 : 6\n",
      "enter the outcomes between 1 to 6 : 1\n",
      "enter the outcomes between 1 to 6 : 2\n",
      "enter the outcomes between 1 to 6 : 3\n",
      "enter the outcomes between 1 to 6 : 4\n",
      "outcomes of dice threw:  [1, 2, 3, 4, 5, 6, 1, 2, 3, 4]\n",
      "point of tom are: 3\n",
      "point of bob are: 1\n",
      "winner is tom\n"
     ]
    }
   ],
   "source": [
    "l=[]           #create an empty list\n",
    "for i in range(10):    #add the elements in the list using for loop\n",
    "    a=int(input('enter the outcomes between 1 to 6 : '))\n",
    "    l.append(a)\n",
    "print('outcomes of dice threw: ',l)\n",
    "b=l.count(2)+l.count(4) #count multiple of 2  \n",
    "c=l.count(3)  #count multiple of 3\n",
    "d=l.count(6)  #count multiple of both 2 & 3\n",
    "print('point of tom are:' ,b-d)   #point of tom after deduction\n",
    "print('point of bob are:' ,c-d)   #point of bob after deduction\n",
    "if (b-d)>(c-d): #comparing the points using if else condition\n",
    "    print('winner is tom')\n",
    "else:\n",
    "    print('winner is bob')"
   ]
  },
  {
   "cell_type": "markdown",
   "metadata": {
    "id": "WzFaY9Pk53Pl"
   },
   "source": []
  },
  {
   "cell_type": "markdown",
   "metadata": {
    "id": "57ec6a53"
   },
   "source": [
    "#### 2. Write a program to take a list of 10 numbers as input in single line and find out the largest element."
   ]
  },
  {
   "cell_type": "code",
   "execution_count": null,
   "metadata": {
    "id": "6ebea151"
   },
   "outputs": [],
   "source": [
    "l=[] #create an empty list\n",
    "for i in range(10):   #add elements in the list using for loop and then use append function\n",
    "    n=input('enter the numbers: ')\n",
    "    l.append(n)\n",
    "print(l)\n",
    "print('the largest element in the list is :',max(l)) #printing the maximum element in the list using max() function"
   ]
  },
  {
   "cell_type": "markdown",
   "metadata": {
    "id": "ee2cce37"
   },
   "source": [
    "#### 3. Write a program to take a number as input and find out whether it is prime or not."
   ]
  },
  {
   "cell_type": "code",
   "execution_count": 3,
   "metadata": {
    "id": "b9d9d6d8"
   },
   "outputs": [
    {
     "name": "stdout",
     "output_type": "stream",
     "text": [
      "enter a number: 23\n",
      "23  is prime\n"
     ]
    }
   ],
   "source": [
    "num=int(input('enter a number: ')) #take an integer number as input\n",
    "if num==1:    #if num is equal to 1 then it is not prime\n",
    "    print(num,'is not prime')\n",
    "if num>1:\n",
    "    for i in range(2,num):  #iterate the numbers using for loop\n",
    "        if (num%i)==0:      #if the number is divisible by the numbers in the given range then it's not prime\n",
    "            print(num,' is not prime')\n",
    "            break           # break function is used to stop loop\n",
    "    else:\n",
    "        print(num,' is prime')"
   ]
  },
  {
   "cell_type": "markdown",
   "metadata": {
    "id": "07d5a484"
   },
   "source": [
    "#### 4. Take a list and a number as input, print all consecutive pairs of two numbers from the list having sum equal to the given number."
   ]
  },
  {
   "cell_type": "code",
   "execution_count": 6,
   "metadata": {
    "id": "e3acd75f"
   },
   "outputs": [
    {
     "name": "stdout",
     "output_type": "stream",
     "text": [
      "enter the sum:12\n",
      "enter the number of elements: 7\n",
      "enter the numbers: 3\n",
      "enter the numbers: 9\n",
      "enter the numbers: 4\n",
      "enter the numbers: 5\n",
      "enter the numbers: 8\n",
      "enter the numbers: 7\n",
      "enter the numbers: 5\n",
      "[3, 9, 4, 5, 8, 7, 5]\n",
      "3 9\n",
      "7 5\n"
     ]
    }
   ],
   "source": [
    "l=[]     #create an empty list\n",
    "b=int(input('enter the sum:'))   #take an integer number as input\n",
    "s=int(input('enter the number of elements: '))   #enter the number of elements to be added in list\n",
    "for i in range(s):   #enter the elements using for loop\n",
    "    a=int(input('enter the numbers: '))\n",
    "    l.append(a)\n",
    "print(l)  #print the list\n",
    "for k in l:  #accessing the index value of the list using for loop\n",
    "    for j in range(s-1):  #accessing the next index value of the list \n",
    "        if (l[j] + l[j+1])==b:  #if the two index values are equal to the given number the print the pair of those number\n",
    "            print(l[j],l[j+1])\n",
    "    break       \n",
    "    "
   ]
  },
  {
   "cell_type": "markdown",
   "metadata": {
    "id": "d2bc68d1"
   },
   "source": [
    " 5. Take a string as input and find out the number of words with even length and number of words with odd length."
   ]
  },
  {
   "cell_type": "code",
   "execution_count": 8,
   "metadata": {
    "id": "f273ca05"
   },
   "outputs": [
    {
     "name": "stdout",
     "output_type": "stream",
     "text": [
      "enter a string: my name is vinay\n",
      "number of words with even lenght:  3\n",
      "number of words with odd length:  1\n"
     ]
    }
   ],
   "source": [
    "string= input('enter a string: ') #take a string as input\n",
    "a=string.split()   #split the string using split() function\n",
    "count_even=0  #initialising the count_even as zero for counting even number of words\n",
    "count_odd=0   #initialising the count_odd as zero for counting odd number of words\n",
    "for i in a:   #accessing each word of the string using for loop\n",
    "    if len(i)%2==0:  #if the length of word is divisible by 2 then count it as even\n",
    "        count_even+=1\n",
    "    else:  #else count it as odd\n",
    "        count_odd+=1\n",
    "print('number of words with even lenght: ',count_even)\n",
    "print('number of words with odd length: ',count_odd)"
   ]
  },
  {
   "cell_type": "markdown",
   "metadata": {
    "id": "9bc04f36"
   },
   "source": [
    "#### 7. Write a program to sort a given list using selection sort algorithm. (study selection sort and implement)"
   ]
  },
  {
   "cell_type": "code",
   "execution_count": 1,
   "metadata": {
    "id": "3abb8c1e"
   },
   "outputs": [
    {
     "name": "stdout",
     "output_type": "stream",
     "text": [
      "enter the number of elements: 5\n",
      "enter the elements: 5\n",
      "enter the elements: 4\n",
      "enter the elements: 3\n",
      "enter the elements: 2\n",
      "enter the elements: 1\n",
      "unsorted list:  [5, 4, 3, 2, 1]\n",
      "sorted list:  [1, 2, 3, 4, 5]\n"
     ]
    }
   ],
   "source": [
    "a=[]     #create an epmty list\n",
    "b=int(input('enter the number of elements: '))   #enter the number of elements to be added in list\n",
    "for k in range(b):      #add elements in the list using for loop\n",
    "    c=int(input('enter the elements: '))\n",
    "    a.append(c)\n",
    "print('unsorted list: ',a) #print the unsorted list\n",
    "#in selection sort first elements is compared with all other elements and it swaps with smaller element\n",
    "for i in range(0,b-1):  #using for loop for the first element\n",
    "    for j in range(i+1,b): #using for loop for the next element\n",
    "        if a[i] > a[j]: #conditions for swapping the numbers\n",
    "            d=a[i]\n",
    "            a[i]=a[j]\n",
    "            a[j]=d\n",
    "print('sorted list: ',a)  #print the sorted list"
   ]
  },
  {
   "cell_type": "code",
   "execution_count": null,
   "metadata": {
    "id": "58AA0C0Kyv15"
   },
   "outputs": [],
   "source": []
  },
  {
   "cell_type": "markdown",
   "metadata": {
    "id": "d2cf1bab"
   },
   "source": [
    "#### 8. Write a program to sort a given list using bubble sort algorithm. (Study bubble sort and implement)"
   ]
  },
  {
   "cell_type": "code",
   "execution_count": 6,
   "metadata": {
    "id": "OJAUtZLmyvMk"
   },
   "outputs": [
    {
     "name": "stdout",
     "output_type": "stream",
     "text": [
      "enter the number of elements: 5\n",
      "enter the elements: 3\n",
      "enter the elements: 4\n",
      "enter the elements: 7\n",
      "enter the elements: 6\n",
      "enter the elements: 8\n",
      "unsorted list:  [3, 4, 7, 6, 8]\n",
      "sorted list:  [3, 4, 6, 7, 8]\n"
     ]
    }
   ],
   "source": [
    "a=[]      #create an epmty list\n",
    "b=int(input('enter the number of elements: '))  #enter the number of elements to be added in list\n",
    "for k in range(b):     #add elements in the list using for loop\n",
    "    c=int(input('enter the elements: '))\n",
    "    a.append(c)\n",
    "print('unsorted list: ',a)  #print the unsorted list\n",
    "#in bubble sorting pair of numbers is compared with each other and then it is swapped \n",
    "for i in range(0,b):  #for loop for the first element of list\n",
    "    for j in range(0,b-1):  #for loop for the second element of the list\n",
    "        if a[j]>a[j+1]:  #conditions for swapping two numbers\n",
    "            d=a[j]\n",
    "            a[j]=a[j+1]\n",
    "            a[j+1]=d\n",
    "print('sorted list: ',a)  #print the sorted list"
   ]
  },
  {
   "cell_type": "code",
   "execution_count": null,
   "metadata": {
    "id": "4869309e"
   },
   "outputs": [],
   "source": []
  },
  {
   "cell_type": "markdown",
   "metadata": {
    "id": "1910df79"
   },
   "source": [
    "#### 9. Take a string and a word and input. Find the frequenecy of occurrence of the word in the given string. (Without using any inbuilt function)"
   ]
  },
  {
   "cell_type": "code",
   "execution_count": 4,
   "metadata": {
    "id": "c50d4a3c"
   },
   "outputs": [
    {
     "name": "stdout",
     "output_type": "stream",
     "text": [
      "enter a string:my name is vinay vinay vinay\n",
      "enter a word: vinay\n",
      "frequency of occurence of the vinay in the given string:  3\n"
     ]
    }
   ],
   "source": [
    "s=input('enter a string:')  #take a string as input\n",
    "word=input('enter a word: ') #take a word as input\n",
    "a=s.split()  #split the string \n",
    "count=0   #initialise the count as for counting the frequency of the given word in string\n",
    "for i in a:  #access the words from the string using for loop\n",
    "    if i==word:  #if the word is present in the string\n",
    "        count+=1  #count its occurence\n",
    "print('frequency of occurence of ',word, in the given string: ',count)\n",
    "    "
   ]
  },
  {
   "cell_type": "code",
   "execution_count": null,
   "metadata": {
    "id": "TfGNjqDj0u4i"
   },
   "outputs": [],
   "source": []
  },
  {
   "cell_type": "markdown",
   "metadata": {
    "id": "b05f15de"
   },
   "source": [
    "#### 10. Write a program to print the following pattern: "
   ]
  },
  {
   "cell_type": "code",
   "execution_count": null,
   "metadata": {
    "id": "5113af76"
   },
   "outputs": [],
   "source": [
    "'''\n",
    "5 4 3 2 1\n",
    "  4 3 2 1\n",
    "    3 2 1\n",
    "      2 1\n",
    "        1\n",
    "'''\n",
    "print()"
   ]
  },
  {
   "cell_type": "code",
   "execution_count": 12,
   "metadata": {
    "id": "j7lsHqTI1-ZY"
   },
   "outputs": [
    {
     "name": "stdout",
     "output_type": "stream",
     "text": [
      "  5 4 3 2 1 \n",
      "    4 3 2 1 \n",
      "      3 2 1 \n",
      "        2 1 \n",
      "          1 \n"
     ]
    }
   ],
   "source": [
    "k=5 #take a variable and initialise its value to 5\n",
    "#create a decrement triangle pattern\n",
    "for i in range(5):  #use for loop for the rows\n",
    "    p=k   \n",
    "    for j in range(i+1):  #use for loop for the coloumns\n",
    "        print(\" \", end=\" \") #print blank for the first increment triangle\n",
    "    for j in range(i,5):  #for second decrement triangle\n",
    "        print(p, end=\" \")  #print the numbers in the pattern\n",
    "        p-=1   #decrease the value for the next iteration\n",
    "    k-=1\n",
    "    print()\n",
    "        "
   ]
  },
  {
   "cell_type": "markdown",
   "metadata": {
    "id": "279b94c8"
   },
   "source": [
    "#### 11. Write a program to print the following pattern:"
   ]
  },
  {
   "cell_type": "code",
   "execution_count": null,
   "metadata": {
    "id": "af2c05e5"
   },
   "outputs": [],
   "source": [
    "'''\n",
    "5 4 3 2 1\n",
    "4 3 2 1\n",
    "3 2 1\n",
    "2 1\n",
    "1\n",
    "'''\n"
   ]
  },
  {
   "cell_type": "code",
   "execution_count": 18,
   "metadata": {
    "id": "DuUWjkVN2eJw"
   },
   "outputs": [
    {
     "name": "stdout",
     "output_type": "stream",
     "text": [
      "5 4 3 2 1 \n",
      "4 3 2 1 \n",
      "3 2 1 \n",
      "2 1 \n",
      "1 \n"
     ]
    }
   ],
   "source": [
    "k=5   #take a variable and initialise its value to 5\n",
    "#create a decrement triangle pattern\n",
    "for i in range(5):  #use for loop for the rows\n",
    "    p=k\n",
    "    for j in range(i,5):  #use for loop for the coloumn\n",
    "        print(p, end=\" \")  #print the numbers in the pattern\n",
    "        p-=1    #decrease the value for the next iteration\n",
    "    k-=1\n",
    "    print()      "
   ]
  },
  {
   "cell_type": "code",
   "execution_count": null,
   "metadata": {
    "id": "a6502c4f"
   },
   "outputs": [],
   "source": []
  },
  {
   "cell_type": "code",
   "execution_count": null,
   "metadata": {
    "id": "zDFL1kek2i2E"
   },
   "outputs": [],
   "source": []
  }
 ],
 "metadata": {
  "colab": {
   "provenance": []
  },
  "kernelspec": {
   "display_name": "Python 3",
   "language": "python",
   "name": "python3"
  },
  "language_info": {
   "codemirror_mode": {
    "name": "ipython",
    "version": 3
   },
   "file_extension": ".py",
   "mimetype": "text/x-python",
   "name": "python",
   "nbconvert_exporter": "python",
   "pygments_lexer": "ipython3",
   "version": "3.7.3"
  }
 },
 "nbformat": 4,
 "nbformat_minor": 5
}
